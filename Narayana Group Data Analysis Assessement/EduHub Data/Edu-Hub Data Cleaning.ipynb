{
 "cells": [
  {
   "cell_type": "code",
   "execution_count": 1,
   "id": "9c0bdfe1",
   "metadata": {},
   "outputs": [],
   "source": [
    "import pandas as pd"
   ]
  },
  {
   "cell_type": "code",
   "execution_count": 2,
   "id": "88d11a80",
   "metadata": {},
   "outputs": [
    {
     "data": {
      "text/html": [
       "<div>\n",
       "<style scoped>\n",
       "    .dataframe tbody tr th:only-of-type {\n",
       "        vertical-align: middle;\n",
       "    }\n",
       "\n",
       "    .dataframe tbody tr th {\n",
       "        vertical-align: top;\n",
       "    }\n",
       "\n",
       "    .dataframe thead th {\n",
       "        text-align: right;\n",
       "    }\n",
       "</style>\n",
       "<table border=\"1\" class=\"dataframe\">\n",
       "  <thead>\n",
       "    <tr style=\"text-align: right;\">\n",
       "      <th></th>\n",
       "      <th>Subjects</th>\n",
       "      <th>Script Key</th>\n",
       "      <th>Grade</th>\n",
       "      <th>Video Release Month</th>\n",
       "      <th>Script Due Date</th>\n",
       "      <th>Actual Script Closed</th>\n",
       "      <th>Storyboard Due Date</th>\n",
       "      <th>Actual Storyboard Closed</th>\n",
       "      <th>Shoot Due Date</th>\n",
       "      <th>Actual Shoot Closed</th>\n",
       "    </tr>\n",
       "  </thead>\n",
       "  <tbody>\n",
       "    <tr>\n",
       "      <th>0</th>\n",
       "      <td>Maths</td>\n",
       "      <td>SK06ma1401</td>\n",
       "      <td>6</td>\n",
       "      <td>March</td>\n",
       "      <td>29/10/22</td>\n",
       "      <td>29-Sep-22</td>\n",
       "      <td>30-Sep-22</td>\n",
       "      <td>30-Sep-22</td>\n",
       "      <td>01-Oct-22</td>\n",
       "      <td>01-Oct-22</td>\n",
       "    </tr>\n",
       "    <tr>\n",
       "      <th>1</th>\n",
       "      <td>Maths</td>\n",
       "      <td>SK06ma1402</td>\n",
       "      <td>6</td>\n",
       "      <td>March</td>\n",
       "      <td>29-Sep-22</td>\n",
       "      <td>29-Sep-22</td>\n",
       "      <td>30-Sep-22</td>\n",
       "      <td>30-Sep-22</td>\n",
       "      <td>01-Oct-22</td>\n",
       "      <td>01-Oct-22</td>\n",
       "    </tr>\n",
       "    <tr>\n",
       "      <th>2</th>\n",
       "      <td>Maths</td>\n",
       "      <td>SK06ma1403</td>\n",
       "      <td>6</td>\n",
       "      <td>March</td>\n",
       "      <td>29-Sep-22</td>\n",
       "      <td>29-Sep-22</td>\n",
       "      <td>30-Sep-22</td>\n",
       "      <td>30-Sep-22</td>\n",
       "      <td>01-Oct-22</td>\n",
       "      <td>01-Oct-22</td>\n",
       "    </tr>\n",
       "    <tr>\n",
       "      <th>3</th>\n",
       "      <td>Maths</td>\n",
       "      <td>SK06ma1404</td>\n",
       "      <td>6</td>\n",
       "      <td>March</td>\n",
       "      <td>29-Sep-22</td>\n",
       "      <td>29-Sep-22</td>\n",
       "      <td>30-Sep-22</td>\n",
       "      <td>30-Sep-22</td>\n",
       "      <td>01-Oct-22</td>\n",
       "      <td>01-Oct-22</td>\n",
       "    </tr>\n",
       "    <tr>\n",
       "      <th>4</th>\n",
       "      <td>Maths</td>\n",
       "      <td>SK06ma1406</td>\n",
       "      <td>6</td>\n",
       "      <td>March</td>\n",
       "      <td>29-Sep-22</td>\n",
       "      <td>29-Sep-22</td>\n",
       "      <td>03-Oct-22</td>\n",
       "      <td>03-Oct-22</td>\n",
       "      <td>10-Oct-22</td>\n",
       "      <td>10-Oct-22</td>\n",
       "    </tr>\n",
       "  </tbody>\n",
       "</table>\n",
       "</div>"
      ],
      "text/plain": [
       "  Subjects  Script Key  Grade Video Release Month Script Due Date  \\\n",
       "0    Maths  SK06ma1401      6               March        29/10/22   \n",
       "1    Maths  SK06ma1402      6               March       29-Sep-22   \n",
       "2    Maths  SK06ma1403      6               March       29-Sep-22   \n",
       "3    Maths  SK06ma1404      6               March       29-Sep-22   \n",
       "4    Maths  SK06ma1406      6               March       29-Sep-22   \n",
       "\n",
       "  Actual Script Closed Storyboard Due Date Actual Storyboard Closed  \\\n",
       "0            29-Sep-22           30-Sep-22                30-Sep-22   \n",
       "1            29-Sep-22           30-Sep-22                30-Sep-22   \n",
       "2            29-Sep-22           30-Sep-22                30-Sep-22   \n",
       "3            29-Sep-22           30-Sep-22                30-Sep-22   \n",
       "4            29-Sep-22           03-Oct-22                03-Oct-22   \n",
       "\n",
       "  Shoot Due Date Actual Shoot Closed  \n",
       "0      01-Oct-22           01-Oct-22  \n",
       "1      01-Oct-22           01-Oct-22  \n",
       "2      01-Oct-22           01-Oct-22  \n",
       "3      01-Oct-22           01-Oct-22  \n",
       "4      10-Oct-22           10-Oct-22  "
      ]
     },
     "execution_count": 2,
     "metadata": {},
     "output_type": "execute_result"
    }
   ],
   "source": [
    "df=pd.read_csv('Eduhub Data.csv')\n",
    "df.head()"
   ]
  },
  {
   "cell_type": "code",
   "execution_count": 3,
   "id": "1c99d002",
   "metadata": {},
   "outputs": [
    {
     "name": "stdout",
     "output_type": "stream",
     "text": [
      "<class 'pandas.core.frame.DataFrame'>\n",
      "RangeIndex: 2580 entries, 0 to 2579\n",
      "Data columns (total 10 columns):\n",
      " #   Column                    Non-Null Count  Dtype \n",
      "---  ------                    --------------  ----- \n",
      " 0   Subjects                  2580 non-null   object\n",
      " 1   Script Key                2580 non-null   object\n",
      " 2   Grade                     2580 non-null   int64 \n",
      " 3   Video Release Month       1817 non-null   object\n",
      " 4   Script Due Date           2579 non-null   object\n",
      " 5   Actual Script Closed      1781 non-null   object\n",
      " 6   Storyboard Due Date       2576 non-null   object\n",
      " 7   Actual Storyboard Closed  1154 non-null   object\n",
      " 8   Shoot Due Date            2565 non-null   object\n",
      " 9   Actual Shoot Closed       1425 non-null   object\n",
      "dtypes: int64(1), object(9)\n",
      "memory usage: 201.7+ KB\n"
     ]
    }
   ],
   "source": [
    "df.info()"
   ]
  },
  {
   "cell_type": "markdown",
   "id": "43eee8e1",
   "metadata": {},
   "source": [
    "### Duplicate rows"
   ]
  },
  {
   "cell_type": "code",
   "execution_count": 4,
   "id": "7c6d7789",
   "metadata": {},
   "outputs": [
    {
     "data": {
      "text/plain": [
       "0"
      ]
     },
     "execution_count": 4,
     "metadata": {},
     "output_type": "execute_result"
    }
   ],
   "source": [
    "df.duplicated().sum()"
   ]
  },
  {
   "cell_type": "markdown",
   "id": "4e23c5eb",
   "metadata": {},
   "source": [
    "### Missing values"
   ]
  },
  {
   "cell_type": "code",
   "execution_count": 5,
   "id": "eb0a5924",
   "metadata": {},
   "outputs": [
    {
     "data": {
      "text/plain": [
       "Subjects                       0\n",
       "Script Key                     0\n",
       "Grade                          0\n",
       "Video Release Month          763\n",
       "Script Due Date                1\n",
       "Actual Script Closed         799\n",
       "Storyboard Due Date            4\n",
       "Actual Storyboard Closed    1426\n",
       "Shoot Due Date                15\n",
       "Actual Shoot Closed         1155\n",
       "dtype: int64"
      ]
     },
     "execution_count": 5,
     "metadata": {},
     "output_type": "execute_result"
    }
   ],
   "source": [
    "df.isna().sum()"
   ]
  },
  {
   "cell_type": "markdown",
   "id": "6fae7344",
   "metadata": {},
   "source": [
    "### Remove the Nan containing rows from due date"
   ]
  },
  {
   "cell_type": "code",
   "execution_count": 10,
   "id": "f6f5183e",
   "metadata": {},
   "outputs": [
    {
     "data": {
      "text/plain": [
       "Subjects                    0\n",
       "Script Key                  0\n",
       "Grade                       0\n",
       "Video Release Month         0\n",
       "Script Due Date             0\n",
       "Actual Script Closed        0\n",
       "Storyboard Due Date         0\n",
       "Actual Storyboard Closed    0\n",
       "Shoot Due Date              0\n",
       "Actual Shoot Closed         0\n",
       "dtype: int64"
      ]
     },
     "execution_count": 10,
     "metadata": {},
     "output_type": "execute_result"
    }
   ],
   "source": [
    "#df['Script Due Date'].dropna(axis=0, inplace=True)\n",
    "#df['Storyboard Due Date'].dropna(axis=0, inplace=True)\n",
    "#df['Shoot Due Date'].dropna(axis=0, inplace=True)\n",
    "df.dropna(inplace=True)\n",
    "df.isna().sum()"
   ]
  },
  {
   "cell_type": "code",
   "execution_count": 11,
   "id": "f2b0da01",
   "metadata": {},
   "outputs": [
    {
     "data": {
      "text/plain": [
       "(1057, 10)"
      ]
     },
     "execution_count": 11,
     "metadata": {},
     "output_type": "execute_result"
    }
   ],
   "source": [
    "df.shape"
   ]
  },
  {
   "cell_type": "code",
   "execution_count": 13,
   "id": "2e9053cb",
   "metadata": {},
   "outputs": [],
   "source": [
    "df.to_csv('EduHub Data Clean.csv', index=False)"
   ]
  },
  {
   "cell_type": "code",
   "execution_count": null,
   "id": "b2fd9b4c",
   "metadata": {},
   "outputs": [],
   "source": []
  }
 ],
 "metadata": {
  "kernelspec": {
   "display_name": "Python 3 (ipykernel)",
   "language": "python",
   "name": "python3"
  },
  "language_info": {
   "codemirror_mode": {
    "name": "ipython",
    "version": 3
   },
   "file_extension": ".py",
   "mimetype": "text/x-python",
   "name": "python",
   "nbconvert_exporter": "python",
   "pygments_lexer": "ipython3",
   "version": "3.9.7"
  }
 },
 "nbformat": 4,
 "nbformat_minor": 5
}
