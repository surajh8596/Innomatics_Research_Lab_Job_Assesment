{
 "cells": [
  {
   "cell_type": "markdown",
   "id": "450f22ae",
   "metadata": {},
   "source": [
    "<h1 style=\"color:purple; background:yellow; line-height:2; text-align:center\">📊 TRUCK LOAD ANALYSIS 📊</h1>\n",
    "<h4 style=\"color:red; text-align:right\">By: Mr. Suraj Honkamble</h4>"
   ]
  },
  {
   "cell_type": "markdown",
   "id": "75e9ffb6",
   "metadata": {},
   "source": [
    "<h2 style=\"color:blue; background:lightblue;line-height:2; text-align:center;\">Table of Content: 🎡🎡</h2>\n",
    "<h3 style=\"color:magenta; line-height:1.7;\">1. Objective of the Project<br>\n",
    "    2. Loading the packages or libraries<br>\n",
    "    3. Loading the dataset</h3>\n",
    "    \n",
    "<h2 style=\"color:red; line-height:1.7;\"> Tasks:</h2>\n",
    "<h3 style=\"color:magenta; line-height:1.7;\">1. Data Schema Understanding:<br>\n",
    "    &nbsp;&nbsp;&nbsp;&nbsp;   i. Describe the structure of the Excel sheet.<br>\n",
    "    &nbsp;&nbsp;&nbsp;&nbsp;   ii. Identify key fields and their roles in tracking load records.<br>\n",
    "    2. Data Manipulation and Analysis:<br>\n",
    "    &nbsp;&nbsp;&nbsp;&nbsp;   i. Using Python, filter out all records representing new additions.<br>\n",
    "    &nbsp;&nbsp;&nbsp;&nbsp;   ii. Write a Python script to extract all records marked as deleted after a specific date.<br>\n",
    "    &nbsp;&nbsp;&nbsp;&nbsp;   iii. Analyze trends in data additions, updates, and deletions. Summarize your findings.<br>\n",
    "    &nbsp;&nbsp;&nbsp;&nbsp;   iv. Identify patterns or anomalies in price updates and time spans of added and deleted loads. Explain these findings in the context of the data.<br>\n",
    "    3. Python Script Efficiency and Optimization:<br>\n",
    "    &nbsp;&nbsp;&nbsp;&nbsp;   i. Demonstrate the efficiency of your Python scripts.<br>\n",
    "    &nbsp;&nbsp;&nbsp;&nbsp;   ii. Explain any optimization techniques you used.<br>\n",
    "    4. Reporting and Visualization:<br>\n",
    "    &nbsp;&nbsp;&nbsp;&nbsp;   i. Create a report or dashboard summarizing your analysis in Python.<br>\n",
    "    &nbsp;&nbsp;&nbsp;&nbsp;   ii. Include visual representations of trends and patterns identified.<br>\n",
    "    5. Advanced Python Techniques (Optional):<br>\n",
    "    &nbsp;&nbsp;&nbsp;&nbsp;   i. If applicable, demonstrate your knowledge of advanced Python features in your scripts \n",
    "or analysis.</h3>"
   ]
  },
  {
   "cell_type": "markdown",
   "id": "3b574dcc",
   "metadata": {},
   "source": [
    "<h2 style=\"color:blue; background:lightgreen;line-height:2; text-align:center;\">Objective of the Project: 🎯🎯</h2>\n",
    "<h3 style=\"color:green; line-height:1.7;\"> Assess candidate ability to understand, manipulate, analyze, and report on data using Python and Excel. You will be working with an Excel dataset that tracks the addition, updating, and deletion of load records, each with timestamps. The dataset includes information about load origins, destinations, truck types, and price ranges. We are interested in identifying quick-selling loads as an indication of demand.</h3>"
   ]
  },
  {
   "cell_type": "markdown",
   "id": "26e5c7ee",
   "metadata": {},
   "source": [
    "<h2 style=\"color:blue; background:lightgreen;line-height:2; text-align:center;\">Import required libraries 📕📗</h2>"
   ]
  },
  {
   "cell_type": "code",
   "execution_count": 1,
   "id": "1de3efcf",
   "metadata": {},
   "outputs": [],
   "source": [
    "# Data loading and manipulating libraries\n",
    "import pandas as pd\n",
    "import numpy as np\n",
    "\n",
    "# Data visualization libraries\n",
    "import matplotlib.pyplot as plt\n",
    "import seaborn as sns\n",
    "import plotly.express as px\n",
    "import plotly.graph_objects as go\n",
    "\n",
    "# Avoiding uncessary warnings\n",
    "import warnings\n",
    "warnings.filterwarnings('ignore')\n",
    "\n",
    "# Date time manipulation\n",
    "from datetime import datetime"
   ]
  },
  {
   "cell_type": "markdown",
   "id": "ebcc0d6c",
   "metadata": {},
   "source": [
    "<h2 style=\"color:blue; background:lightgreen;line-height:2; text-align:center\">Loading the dataset 📂📂</h2>"
   ]
  },
  {
   "cell_type": "code",
   "execution_count": 42,
   "id": "af63ee03",
   "metadata": {},
   "outputs": [
    {
     "data": {
      "text/html": [
       "<div>\n",
       "<style scoped>\n",
       "    .dataframe tbody tr th:only-of-type {\n",
       "        vertical-align: middle;\n",
       "    }\n",
       "\n",
       "    .dataframe tbody tr th {\n",
       "        vertical-align: top;\n",
       "    }\n",
       "\n",
       "    .dataframe thead th {\n",
       "        text-align: right;\n",
       "    }\n",
       "</style>\n",
       "<table border=\"1\" class=\"dataframe\">\n",
       "  <thead>\n",
       "    <tr style=\"text-align: right;\">\n",
       "      <th></th>\n",
       "      <th>reference_id</th>\n",
       "      <th>added_time</th>\n",
       "      <th>deleted_time</th>\n",
       "      <th>time_span</th>\n",
       "      <th>origin_city</th>\n",
       "      <th>origin_state</th>\n",
       "      <th>destination_city</th>\n",
       "      <th>destination_state</th>\n",
       "      <th>truck_type</th>\n",
       "      <th>min_rate</th>\n",
       "      <th>max_rate</th>\n",
       "    </tr>\n",
       "  </thead>\n",
       "  <tbody>\n",
       "    <tr>\n",
       "      <th>0</th>\n",
       "      <td>10711157</td>\n",
       "      <td>2023-11-29 11:37:33</td>\n",
       "      <td>2023-11-29 12:28:24</td>\n",
       "      <td>0:50:51</td>\n",
       "      <td>ABEILENE</td>\n",
       "      <td>TX</td>\n",
       "      <td>ORLA</td>\n",
       "      <td>TX</td>\n",
       "      <td>F</td>\n",
       "      <td>900</td>\n",
       "      <td>900</td>\n",
       "    </tr>\n",
       "    <tr>\n",
       "      <th>1</th>\n",
       "      <td>10711143</td>\n",
       "      <td>2023-11-28 11:50:31</td>\n",
       "      <td>2023-11-28 11:53:49</td>\n",
       "      <td>0:03:18</td>\n",
       "      <td>ABEILENE</td>\n",
       "      <td>TX</td>\n",
       "      <td>Ft Worth</td>\n",
       "      <td>TX</td>\n",
       "      <td>F</td>\n",
       "      <td>600</td>\n",
       "      <td>600</td>\n",
       "    </tr>\n",
       "    <tr>\n",
       "      <th>2</th>\n",
       "      <td>10711151</td>\n",
       "      <td>2023-11-28 11:53:48</td>\n",
       "      <td>2023-11-28 12:02:09</td>\n",
       "      <td>0:08:21</td>\n",
       "      <td>ABEILENE</td>\n",
       "      <td>TX</td>\n",
       "      <td>Ft Worth</td>\n",
       "      <td>TX</td>\n",
       "      <td>F</td>\n",
       "      <td>600</td>\n",
       "      <td>600</td>\n",
       "    </tr>\n",
       "    <tr>\n",
       "      <th>3</th>\n",
       "      <td>10711161</td>\n",
       "      <td>2023-11-28 12:02:08</td>\n",
       "      <td>2023-11-28 12:06:44</td>\n",
       "      <td>0:04:36</td>\n",
       "      <td>ABEILENE</td>\n",
       "      <td>TX</td>\n",
       "      <td>Ft Worth</td>\n",
       "      <td>TX</td>\n",
       "      <td>F</td>\n",
       "      <td>600</td>\n",
       "      <td>600</td>\n",
       "    </tr>\n",
       "    <tr>\n",
       "      <th>4</th>\n",
       "      <td>10711169</td>\n",
       "      <td>2023-11-28 12:06:44</td>\n",
       "      <td>2023-11-28 12:07:53</td>\n",
       "      <td>0:01:09</td>\n",
       "      <td>ABEILENE</td>\n",
       "      <td>TX</td>\n",
       "      <td>Ft Worth</td>\n",
       "      <td>TX</td>\n",
       "      <td>F</td>\n",
       "      <td>600</td>\n",
       "      <td>600</td>\n",
       "    </tr>\n",
       "  </tbody>\n",
       "</table>\n",
       "</div>"
      ],
      "text/plain": [
       "   reference_id          added_time        deleted_time time_span origin_city  \\\n",
       "0      10711157 2023-11-29 11:37:33 2023-11-29 12:28:24   0:50:51    ABEILENE   \n",
       "1      10711143 2023-11-28 11:50:31 2023-11-28 11:53:49   0:03:18    ABEILENE   \n",
       "2      10711151 2023-11-28 11:53:48 2023-11-28 12:02:09   0:08:21    ABEILENE   \n",
       "3      10711161 2023-11-28 12:02:08 2023-11-28 12:06:44   0:04:36    ABEILENE   \n",
       "4      10711169 2023-11-28 12:06:44 2023-11-28 12:07:53   0:01:09    ABEILENE   \n",
       "\n",
       "  origin_state destination_city destination_state truck_type  min_rate  \\\n",
       "0           TX             ORLA                TX          F       900   \n",
       "1           TX         Ft Worth                TX          F       600   \n",
       "2           TX         Ft Worth                TX          F       600   \n",
       "3           TX         Ft Worth                TX          F       600   \n",
       "4           TX         Ft Worth                TX          F       600   \n",
       "\n",
       "   max_rate  \n",
       "0       900  \n",
       "1       600  \n",
       "2       600  \n",
       "3       600  \n",
       "4       600  "
      ]
     },
     "execution_count": 42,
     "metadata": {},
     "output_type": "execute_result"
    }
   ],
   "source": [
    "df=pd.read_excel('data/data.xlsx')\n",
    "df.head()"
   ]
  },
  {
   "cell_type": "markdown",
   "id": "6dcf5b79",
   "metadata": {},
   "source": [
    "**+--------+** **+--------+** **+--------+** **+--------+** **+--------+** **+--------+** **+--------+** **+--------+** **+--------+** **+--------+** **+--------+** **+--------+** **+--------+** **+--------+** **+--------+** "
   ]
  },
  {
   "cell_type": "markdown",
   "id": "04815127",
   "metadata": {},
   "source": [
    "<h2 style=\"color:blue; background:pink;line-height:2; text-align:center\">Tasks 📝📌</h2>"
   ]
  },
  {
   "cell_type": "markdown",
   "id": "790f87dd",
   "metadata": {},
   "source": [
    "<h2 style=\"color:blue; background:lightgreen;line-height:2; text-align:center\">1. Data Schema Understanding 📰📰</h2>"
   ]
  },
  {
   "cell_type": "markdown",
   "id": "b882fcb4",
   "metadata": {},
   "source": [
    "<h3 style=\"color:blue; background:lightblue;line-height:1.5\">1.1. Describe the structure of the Excel sheet.</h3>"
   ]
  },
  {
   "cell_type": "markdown",
   "id": "6301776a",
   "metadata": {},
   "source": [
    "1. `reference_id`: Unique identifier for each load record.\n",
    "    -  Essential for tracking and referencing individual load transactions.\n",
    "    \n",
    "    \n",
    "2. `added_time`: Timestamp for when the load record was added.\n",
    "    - Provides information about the time of initiation for each load.\n",
    "    \n",
    "    \n",
    "3. `deleted_time`: Timestamp for when the load record was deleted.\n",
    "    - Indicates the time of completion, cancellation or removal of the load.\n",
    "    \n",
    "    \n",
    "4. `time_span`: Duration between addition and deletion.\n",
    "    - Provides insights into how quickly loads are being sold or updated.\n",
    "    \n",
    "    \n",
    "5. `origin_city`, `origin_state`, `destination_city`, `destination_state`: Details about load origins and destinations.\n",
    "    - Helps identify the route and geographical context of each load.\n",
    "    \n",
    "    \n",
    "6. `truck_type`: Type of truck associated with the load.\n",
    "    - Provides information about the specific type of transportation required.\n",
    "    \n",
    "    \n",
    "7. `min_rate`, `max_rate`: Minimum and maximum rates for the load.\n",
    "    - Specifies the pricing range for each load transaction."
   ]
  },
  {
   "cell_type": "code",
   "execution_count": 3,
   "id": "10e4cc6b",
   "metadata": {},
   "outputs": [
    {
     "data": {
      "text/plain": [
       "(9796, 11)"
      ]
     },
     "execution_count": 3,
     "metadata": {},
     "output_type": "execute_result"
    }
   ],
   "source": [
    "df.shape"
   ]
  },
  {
   "cell_type": "markdown",
   "id": "38f4ee84",
   "metadata": {},
   "source": [
    "**Dataset contains 9796 Rows and 11 columns.**"
   ]
  },
  {
   "cell_type": "code",
   "execution_count": 4,
   "id": "7f005b28",
   "metadata": {},
   "outputs": [
    {
     "name": "stdout",
     "output_type": "stream",
     "text": [
      "<class 'pandas.core.frame.DataFrame'>\n",
      "RangeIndex: 9796 entries, 0 to 9795\n",
      "Data columns (total 11 columns):\n",
      " #   Column             Non-Null Count  Dtype         \n",
      "---  ------             --------------  -----         \n",
      " 0   reference_id       9796 non-null   int64         \n",
      " 1   added_time         9796 non-null   datetime64[ns]\n",
      " 2   deleted_time       9796 non-null   datetime64[ns]\n",
      " 3   time_span          9796 non-null   object        \n",
      " 4   origin_city        9796 non-null   object        \n",
      " 5   origin_state       9796 non-null   object        \n",
      " 6   destination_city   9796 non-null   object        \n",
      " 7   destination_state  9796 non-null   object        \n",
      " 8   truck_type         6605 non-null   object        \n",
      " 9   min_rate           9796 non-null   int64         \n",
      " 10  max_rate           9796 non-null   int64         \n",
      "dtypes: datetime64[ns](2), int64(3), object(6)\n",
      "memory usage: 842.0+ KB\n"
     ]
    }
   ],
   "source": [
    "df.info()"
   ]
  },
  {
   "cell_type": "markdown",
   "id": "2c247856",
   "metadata": {},
   "source": [
    "**Data type of each column is correct except `time_span` column which should be of `timedelta`.**"
   ]
  },
  {
   "cell_type": "code",
   "execution_count": null,
   "id": "de034879",
   "metadata": {},
   "outputs": [],
   "source": []
  },
  {
   "cell_type": "markdown",
   "id": "c00e13a4",
   "metadata": {},
   "source": [
    "<h3 style=\"color:blue; background:lightblue;line-height:1.5\">1.2 Identify key fields and their roles in tracking load records."
   ]
  },
  {
   "cell_type": "code",
   "execution_count": 5,
   "id": "88a58f94",
   "metadata": {},
   "outputs": [
    {
     "data": {
      "text/html": [
       "<div>\n",
       "<style scoped>\n",
       "    .dataframe tbody tr th:only-of-type {\n",
       "        vertical-align: middle;\n",
       "    }\n",
       "\n",
       "    .dataframe tbody tr th {\n",
       "        vertical-align: top;\n",
       "    }\n",
       "\n",
       "    .dataframe thead th {\n",
       "        text-align: right;\n",
       "    }\n",
       "</style>\n",
       "<table border=\"1\" class=\"dataframe\">\n",
       "  <thead>\n",
       "    <tr style=\"text-align: right;\">\n",
       "      <th></th>\n",
       "      <th>count</th>\n",
       "      <th>mean</th>\n",
       "      <th>min</th>\n",
       "      <th>25%</th>\n",
       "      <th>50%</th>\n",
       "      <th>75%</th>\n",
       "      <th>max</th>\n",
       "      <th>std</th>\n",
       "    </tr>\n",
       "  </thead>\n",
       "  <tbody>\n",
       "    <tr>\n",
       "      <th>reference_id</th>\n",
       "      <td>9796.0</td>\n",
       "      <td>10686083.268375</td>\n",
       "      <td>-19584965.0</td>\n",
       "      <td>10671166.5</td>\n",
       "      <td>10689156.0</td>\n",
       "      <td>10706600.0</td>\n",
       "      <td>10726149.0</td>\n",
       "      <td>306578.955617</td>\n",
       "    </tr>\n",
       "    <tr>\n",
       "      <th>added_time</th>\n",
       "      <td>9796</td>\n",
       "      <td>2023-11-05 14:42:28.010820864</td>\n",
       "      <td>2023-10-03 04:35:54</td>\n",
       "      <td>2023-10-18 08:04:10.750000128</td>\n",
       "      <td>2023-11-06 10:53:27.500000</td>\n",
       "      <td>2023-11-21 15:50:27.249999872</td>\n",
       "      <td>2023-12-13 08:24:46</td>\n",
       "      <td>NaN</td>\n",
       "    </tr>\n",
       "    <tr>\n",
       "      <th>deleted_time</th>\n",
       "      <td>9796</td>\n",
       "      <td>2023-11-06 12:01:03.258575104</td>\n",
       "      <td>2023-10-03 07:21:05</td>\n",
       "      <td>2023-10-18 12:41:31.750000128</td>\n",
       "      <td>2023-11-06 16:40:33.500000</td>\n",
       "      <td>2023-11-22 12:11:11.500000</td>\n",
       "      <td>2023-12-13 08:46:47</td>\n",
       "      <td>NaN</td>\n",
       "    </tr>\n",
       "    <tr>\n",
       "      <th>min_rate</th>\n",
       "      <td>9796.0</td>\n",
       "      <td>1277.413842</td>\n",
       "      <td>12.0</td>\n",
       "      <td>700.0</td>\n",
       "      <td>1050.0</td>\n",
       "      <td>1600.0</td>\n",
       "      <td>10000.0</td>\n",
       "      <td>783.312345</td>\n",
       "    </tr>\n",
       "    <tr>\n",
       "      <th>max_rate</th>\n",
       "      <td>9796.0</td>\n",
       "      <td>1277.413842</td>\n",
       "      <td>12.0</td>\n",
       "      <td>700.0</td>\n",
       "      <td>1050.0</td>\n",
       "      <td>1600.0</td>\n",
       "      <td>10000.0</td>\n",
       "      <td>783.312345</td>\n",
       "    </tr>\n",
       "  </tbody>\n",
       "</table>\n",
       "</div>"
      ],
      "text/plain": [
       "               count                           mean                  min  \\\n",
       "reference_id  9796.0                10686083.268375          -19584965.0   \n",
       "added_time      9796  2023-11-05 14:42:28.010820864  2023-10-03 04:35:54   \n",
       "deleted_time    9796  2023-11-06 12:01:03.258575104  2023-10-03 07:21:05   \n",
       "min_rate      9796.0                    1277.413842                 12.0   \n",
       "max_rate      9796.0                    1277.413842                 12.0   \n",
       "\n",
       "                                        25%                         50%  \\\n",
       "reference_id                     10671166.5                  10689156.0   \n",
       "added_time    2023-10-18 08:04:10.750000128  2023-11-06 10:53:27.500000   \n",
       "deleted_time  2023-10-18 12:41:31.750000128  2023-11-06 16:40:33.500000   \n",
       "min_rate                              700.0                      1050.0   \n",
       "max_rate                              700.0                      1050.0   \n",
       "\n",
       "                                        75%                  max  \\\n",
       "reference_id                     10706600.0           10726149.0   \n",
       "added_time    2023-11-21 15:50:27.249999872  2023-12-13 08:24:46   \n",
       "deleted_time     2023-11-22 12:11:11.500000  2023-12-13 08:46:47   \n",
       "min_rate                             1600.0              10000.0   \n",
       "max_rate                             1600.0              10000.0   \n",
       "\n",
       "                        std  \n",
       "reference_id  306578.955617  \n",
       "added_time              NaN  \n",
       "deleted_time            NaN  \n",
       "min_rate         783.312345  \n",
       "max_rate         783.312345  "
      ]
     },
     "execution_count": 5,
     "metadata": {},
     "output_type": "execute_result"
    }
   ],
   "source": [
    "df.describe().T.round(2)"
   ]
  },
  {
   "cell_type": "code",
   "execution_count": 6,
   "id": "2e392577",
   "metadata": {},
   "outputs": [
    {
     "data": {
      "text/html": [
       "<div>\n",
       "<style scoped>\n",
       "    .dataframe tbody tr th:only-of-type {\n",
       "        vertical-align: middle;\n",
       "    }\n",
       "\n",
       "    .dataframe tbody tr th {\n",
       "        vertical-align: top;\n",
       "    }\n",
       "\n",
       "    .dataframe thead th {\n",
       "        text-align: right;\n",
       "    }\n",
       "</style>\n",
       "<table border=\"1\" class=\"dataframe\">\n",
       "  <thead>\n",
       "    <tr style=\"text-align: right;\">\n",
       "      <th></th>\n",
       "      <th>count</th>\n",
       "      <th>unique</th>\n",
       "      <th>top</th>\n",
       "      <th>freq</th>\n",
       "    </tr>\n",
       "  </thead>\n",
       "  <tbody>\n",
       "    <tr>\n",
       "      <th>time_span</th>\n",
       "      <td>9796</td>\n",
       "      <td>7804</td>\n",
       "      <td>4:18:11</td>\n",
       "      <td>86</td>\n",
       "    </tr>\n",
       "    <tr>\n",
       "      <th>origin_city</th>\n",
       "      <td>9796</td>\n",
       "      <td>730</td>\n",
       "      <td>BALTIMORE</td>\n",
       "      <td>488</td>\n",
       "    </tr>\n",
       "    <tr>\n",
       "      <th>origin_state</th>\n",
       "      <td>9796</td>\n",
       "      <td>52</td>\n",
       "      <td>FL</td>\n",
       "      <td>811</td>\n",
       "    </tr>\n",
       "    <tr>\n",
       "      <th>destination_city</th>\n",
       "      <td>9796</td>\n",
       "      <td>1668</td>\n",
       "      <td>HOUSTON</td>\n",
       "      <td>121</td>\n",
       "    </tr>\n",
       "    <tr>\n",
       "      <th>destination_state</th>\n",
       "      <td>9796</td>\n",
       "      <td>52</td>\n",
       "      <td>TX</td>\n",
       "      <td>1382</td>\n",
       "    </tr>\n",
       "    <tr>\n",
       "      <th>truck_type</th>\n",
       "      <td>6605</td>\n",
       "      <td>3</td>\n",
       "      <td>F</td>\n",
       "      <td>6434</td>\n",
       "    </tr>\n",
       "  </tbody>\n",
       "</table>\n",
       "</div>"
      ],
      "text/plain": [
       "                  count unique        top  freq\n",
       "time_span          9796   7804    4:18:11    86\n",
       "origin_city        9796    730  BALTIMORE   488\n",
       "origin_state       9796     52         FL   811\n",
       "destination_city   9796   1668    HOUSTON   121\n",
       "destination_state  9796     52         TX  1382\n",
       "truck_type         6605      3          F  6434"
      ]
     },
     "execution_count": 6,
     "metadata": {},
     "output_type": "execute_result"
    }
   ],
   "source": [
    "df.describe(include='object').T"
   ]
  },
  {
   "cell_type": "markdown",
   "id": "683f4c02",
   "metadata": {},
   "source": [
    "### Statistical Summary:\n",
    "**I.  Numerical Columns:**\n",
    "\n",
    "1. **`reference_id`:**\n",
    "   - The `reference_id` column serves as a unique identifier for each load record.\n",
    "   - The mean value is around 10,686,083, with a relatively large standard deviation of 306,578.96, suggesting some variability in the reference_id values.\n",
    "\n",
    "\n",
    "2. **`added_time` and `deleted_time`:**\n",
    "   - The `added_time` and `deleted_time` columns represent timestamps for when load records were added and deleted.\n",
    "   - The dataset spans from October 3, 2023, to December 13, 2023.\n",
    "   - On average, load records were added around November 5, 2023, and deleted around November 6, 2023.\n",
    "\n",
    "\n",
    "3. **`min_rate` and `max_rate`:**\n",
    "   - The `min_rate` and `max_rate` columns indicate the minimum and maximum rates associated with each load.\n",
    "   - The mean value for both columns is approximately 1277.41.\n",
    "   - The pricing range varies from a minimum of 12.0 to a maximum of 10,000.0.\n",
    "   - The standard deviation for both columns is 783.31, indicating some variability in pricing.\n",
    "\n",
    "\n",
    "4. **General Observations:**\n",
    "   - There are negative values in the `reference_id` column, which may need further investigation to ensure data integrity.\n",
    "   - The pricing information (`min_rate` and `max_rate`) shows a considerable range, with a large standard deviation. This suggests variability in pricing across different load records.\n",
    "\n",
    "\n",
    "\n",
    "**II. Categorical Columns:**\n",
    "\n",
    "1. **`time_span`:**\n",
    "   - There are 7,804 unique values, suggesting some variability in the duration between load addition and deletion.\n",
    "   - The most frequent duration is 4 hours, 18 minutes, and 11 seconds, occurring 86 times.\n",
    "\n",
    "\n",
    "2. **`origin_city`:**\n",
    "   - There are 730 unique origin cities.\n",
    "   - The most frequent origin city is BALTIMORE, occurring 488 times.\n",
    "\n",
    "\n",
    "3. **`origin_state`:**\n",
    "   - There are 52 unique origin states.\n",
    "   - The most frequent origin state is FL (Florida), occurring 811 times.\n",
    "\n",
    "\n",
    "4. **`destination_city`:**\n",
    "   - There are 1,668 unique destination cities.\n",
    "   - The most frequent destination city is HOUSTON, occurring 121 times.\n",
    "\n",
    "\n",
    "5. **`destination_state`:**\n",
    "   - There are 52 unique destination states.\n",
    "   - The most frequent destination state is TX (Texas), occurring 1,382 times.\n",
    "\n",
    "\n",
    "6. **`truck_type`:**\n",
    "   - There are 6,605 entries in the `truck_type` column.\n",
    "   - There are 3 unique truck types.\n",
    "   - The most frequent truck type is \"F\", occurring 6,434 times."
   ]
  },
  {
   "cell_type": "markdown",
   "id": "63c79cfb",
   "metadata": {},
   "source": [
    "**+--------+** **+--------+** **+--------+** **+--------+** **+--------+** **+--------+** **+--------+** **+--------+** **+--------+** **+--------+** **+--------+** **+--------+** **+--------+** **+--------+** **+--------+** "
   ]
  },
  {
   "cell_type": "markdown",
   "id": "782bc9b2",
   "metadata": {},
   "source": [
    "<h2 style=\"color:blue; background:lightgreen;line-height:2; text-align:center\">2. Data Manipulation and Analysis 🔧📊</h2>"
   ]
  },
  {
   "cell_type": "markdown",
   "id": "2fcf530b",
   "metadata": {},
   "source": [
    "<h3 style=\"color:blue; background:lightblue;line-height:1.5\">2.1. Using Python, filter out all records representing new additions.</h3>\n",
    "\n",
    "**The `df['deleted_time'].isna()` condition filters rows where the deleted_time column has NaN values, indicating that the load record has not been deleted or represent new addition.**"
   ]
  },
  {
   "cell_type": "code",
   "execution_count": 7,
   "id": "c298f877",
   "metadata": {},
   "outputs": [
    {
     "data": {
      "text/html": [
       "<div>\n",
       "<style scoped>\n",
       "    .dataframe tbody tr th:only-of-type {\n",
       "        vertical-align: middle;\n",
       "    }\n",
       "\n",
       "    .dataframe tbody tr th {\n",
       "        vertical-align: top;\n",
       "    }\n",
       "\n",
       "    .dataframe thead th {\n",
       "        text-align: right;\n",
       "    }\n",
       "</style>\n",
       "<table border=\"1\" class=\"dataframe\">\n",
       "  <thead>\n",
       "    <tr style=\"text-align: right;\">\n",
       "      <th></th>\n",
       "      <th>reference_id</th>\n",
       "      <th>added_time</th>\n",
       "      <th>deleted_time</th>\n",
       "      <th>time_span</th>\n",
       "      <th>origin_city</th>\n",
       "      <th>origin_state</th>\n",
       "      <th>destination_city</th>\n",
       "      <th>destination_state</th>\n",
       "      <th>truck_type</th>\n",
       "      <th>min_rate</th>\n",
       "      <th>max_rate</th>\n",
       "    </tr>\n",
       "  </thead>\n",
       "  <tbody>\n",
       "  </tbody>\n",
       "</table>\n",
       "</div>"
      ],
      "text/plain": [
       "Empty DataFrame\n",
       "Columns: [reference_id, added_time, deleted_time, time_span, origin_city, origin_state, destination_city, destination_state, truck_type, min_rate, max_rate]\n",
       "Index: []"
      ]
     },
     "execution_count": 7,
     "metadata": {},
     "output_type": "execute_result"
    }
   ],
   "source": [
    "new_additions = df[df['deleted_time'].isna()]\n",
    "new_additions"
   ]
  },
  {
   "cell_type": "markdown",
   "id": "53ee114e",
   "metadata": {},
   "source": [
    "**There are no records found where `deleted_time` is `null`. hence there is no new records has been added which are not been deleted.**"
   ]
  },
  {
   "cell_type": "code",
   "execution_count": null,
   "id": "f51dafb2",
   "metadata": {},
   "outputs": [],
   "source": []
  },
  {
   "cell_type": "markdown",
   "id": "7149cb85",
   "metadata": {},
   "source": [
    "<h3 style=\"color:blue; background:lightblue;line-height:1.5\">2.2 Write a Python script to extract all records marked as deleted after a specific date.</h3>\n",
    "\n",
    "**We can select any perticular date, Here I am selecting `2023-12-01` `(1st of December 2023)`. Finally sorted result by `deleted_time`**"
   ]
  },
  {
   "cell_type": "code",
   "execution_count": 8,
   "id": "23f2f85b",
   "metadata": {},
   "outputs": [
    {
     "data": {
      "text/html": [
       "<div>\n",
       "<style scoped>\n",
       "    .dataframe tbody tr th:only-of-type {\n",
       "        vertical-align: middle;\n",
       "    }\n",
       "\n",
       "    .dataframe tbody tr th {\n",
       "        vertical-align: top;\n",
       "    }\n",
       "\n",
       "    .dataframe thead th {\n",
       "        text-align: right;\n",
       "    }\n",
       "</style>\n",
       "<table border=\"1\" class=\"dataframe\">\n",
       "  <thead>\n",
       "    <tr style=\"text-align: right;\">\n",
       "      <th></th>\n",
       "      <th>reference_id</th>\n",
       "      <th>added_time</th>\n",
       "      <th>deleted_time</th>\n",
       "      <th>time_span</th>\n",
       "      <th>origin_city</th>\n",
       "      <th>origin_state</th>\n",
       "      <th>destination_city</th>\n",
       "      <th>destination_state</th>\n",
       "      <th>truck_type</th>\n",
       "      <th>min_rate</th>\n",
       "      <th>max_rate</th>\n",
       "    </tr>\n",
       "  </thead>\n",
       "  <tbody>\n",
       "    <tr>\n",
       "      <th>605</th>\n",
       "      <td>10709691</td>\n",
       "      <td>2023-11-30 11:23:23</td>\n",
       "      <td>2023-12-01 02:00:11</td>\n",
       "      <td>14:36:48</td>\n",
       "      <td>BALTIMORE</td>\n",
       "      <td>MD</td>\n",
       "      <td>COLORADO SP</td>\n",
       "      <td>CO</td>\n",
       "      <td>F</td>\n",
       "      <td>3600</td>\n",
       "      <td>3600</td>\n",
       "    </tr>\n",
       "    <tr>\n",
       "      <th>8658</th>\n",
       "      <td>10711903</td>\n",
       "      <td>2023-11-30 16:37:44</td>\n",
       "      <td>2023-12-01 03:00:28</td>\n",
       "      <td>10:22:44</td>\n",
       "      <td>SEELEY LAKE</td>\n",
       "      <td>MT</td>\n",
       "      <td>IDAHO FALLS</td>\n",
       "      <td>ID</td>\n",
       "      <td>F</td>\n",
       "      <td>900</td>\n",
       "      <td>900</td>\n",
       "    </tr>\n",
       "    <tr>\n",
       "      <th>2950</th>\n",
       "      <td>10714003</td>\n",
       "      <td>2023-11-30 12:00:17</td>\n",
       "      <td>2023-12-01 04:52:42</td>\n",
       "      <td>16:52:25</td>\n",
       "      <td>DENMARK</td>\n",
       "      <td>WI</td>\n",
       "      <td>STOUGHTON</td>\n",
       "      <td>WI</td>\n",
       "      <td>F</td>\n",
       "      <td>450</td>\n",
       "      <td>450</td>\n",
       "    </tr>\n",
       "    <tr>\n",
       "      <th>4733</th>\n",
       "      <td>10709833</td>\n",
       "      <td>2023-11-30 14:59:16</td>\n",
       "      <td>2023-12-01 08:00:11</td>\n",
       "      <td>17:00:55</td>\n",
       "      <td>HOBOKEN</td>\n",
       "      <td>GA</td>\n",
       "      <td>WINTER HAVE</td>\n",
       "      <td>FL</td>\n",
       "      <td>F</td>\n",
       "      <td>700</td>\n",
       "      <td>700</td>\n",
       "    </tr>\n",
       "    <tr>\n",
       "      <th>651</th>\n",
       "      <td>10714675</td>\n",
       "      <td>2023-11-30 17:29:05</td>\n",
       "      <td>2023-12-01 08:05:54</td>\n",
       "      <td>14:36:49</td>\n",
       "      <td>BALTIMORE</td>\n",
       "      <td>MD</td>\n",
       "      <td>SHELBY</td>\n",
       "      <td>OH</td>\n",
       "      <td>F</td>\n",
       "      <td>1100</td>\n",
       "      <td>1100</td>\n",
       "    </tr>\n",
       "    <tr>\n",
       "      <th>...</th>\n",
       "      <td>...</td>\n",
       "      <td>...</td>\n",
       "      <td>...</td>\n",
       "      <td>...</td>\n",
       "      <td>...</td>\n",
       "      <td>...</td>\n",
       "      <td>...</td>\n",
       "      <td>...</td>\n",
       "      <td>...</td>\n",
       "      <td>...</td>\n",
       "      <td>...</td>\n",
       "    </tr>\n",
       "    <tr>\n",
       "      <th>5965</th>\n",
       "      <td>10722069</td>\n",
       "      <td>2023-12-08 08:24:44</td>\n",
       "      <td>2023-12-13 08:33:15</td>\n",
       "      <td>120:08:31</td>\n",
       "      <td>LUMBERTON</td>\n",
       "      <td>MS</td>\n",
       "      <td>LAKE CITY</td>\n",
       "      <td>FL</td>\n",
       "      <td>F</td>\n",
       "      <td>1000</td>\n",
       "      <td>1000</td>\n",
       "    </tr>\n",
       "    <tr>\n",
       "      <th>8643</th>\n",
       "      <td>10725735</td>\n",
       "      <td>2023-12-12 14:24:32</td>\n",
       "      <td>2023-12-13 08:33:52</td>\n",
       "      <td>18:09:20</td>\n",
       "      <td>SCOTT CITY</td>\n",
       "      <td>MO</td>\n",
       "      <td>SATANTA</td>\n",
       "      <td>KS</td>\n",
       "      <td>F</td>\n",
       "      <td>1900</td>\n",
       "      <td>1900</td>\n",
       "    </tr>\n",
       "    <tr>\n",
       "      <th>6035</th>\n",
       "      <td>10725247</td>\n",
       "      <td>2023-12-12 12:32:38</td>\n",
       "      <td>2023-12-13 08:36:45</td>\n",
       "      <td>20:04:07</td>\n",
       "      <td>LUMBERTON</td>\n",
       "      <td>MS</td>\n",
       "      <td>CONROE</td>\n",
       "      <td>TX</td>\n",
       "      <td>F</td>\n",
       "      <td>800</td>\n",
       "      <td>800</td>\n",
       "    </tr>\n",
       "    <tr>\n",
       "      <th>4713</th>\n",
       "      <td>10725575</td>\n",
       "      <td>2023-12-13 08:05:57</td>\n",
       "      <td>2023-12-13 08:40:43</td>\n",
       "      <td>0:34:46</td>\n",
       "      <td>HOBOKEN</td>\n",
       "      <td>GA</td>\n",
       "      <td>CHANTILLY</td>\n",
       "      <td>VA</td>\n",
       "      <td>F</td>\n",
       "      <td>1200</td>\n",
       "      <td>1200</td>\n",
       "    </tr>\n",
       "    <tr>\n",
       "      <th>111</th>\n",
       "      <td>10725777</td>\n",
       "      <td>2023-12-12 15:13:35</td>\n",
       "      <td>2023-12-13 08:46:47</td>\n",
       "      <td>17:33:12</td>\n",
       "      <td>ALBANY</td>\n",
       "      <td>GA</td>\n",
       "      <td>WOODRUFF</td>\n",
       "      <td>SC</td>\n",
       "      <td>F</td>\n",
       "      <td>650</td>\n",
       "      <td>650</td>\n",
       "    </tr>\n",
       "  </tbody>\n",
       "</table>\n",
       "<p>1496 rows × 11 columns</p>\n",
       "</div>"
      ],
      "text/plain": [
       "      reference_id          added_time        deleted_time   time_span  \\\n",
       "605       10709691 2023-11-30 11:23:23 2023-12-01 02:00:11    14:36:48   \n",
       "8658      10711903 2023-11-30 16:37:44 2023-12-01 03:00:28    10:22:44   \n",
       "2950      10714003 2023-11-30 12:00:17 2023-12-01 04:52:42    16:52:25   \n",
       "4733      10709833 2023-11-30 14:59:16 2023-12-01 08:00:11    17:00:55   \n",
       "651       10714675 2023-11-30 17:29:05 2023-12-01 08:05:54    14:36:49   \n",
       "...            ...                 ...                 ...         ...   \n",
       "5965      10722069 2023-12-08 08:24:44 2023-12-13 08:33:15   120:08:31   \n",
       "8643      10725735 2023-12-12 14:24:32 2023-12-13 08:33:52    18:09:20   \n",
       "6035      10725247 2023-12-12 12:32:38 2023-12-13 08:36:45    20:04:07   \n",
       "4713      10725575 2023-12-13 08:05:57 2023-12-13 08:40:43     0:34:46   \n",
       "111       10725777 2023-12-12 15:13:35 2023-12-13 08:46:47    17:33:12   \n",
       "\n",
       "      origin_city origin_state destination_city destination_state truck_type  \\\n",
       "605     BALTIMORE           MD      COLORADO SP                CO          F   \n",
       "8658  SEELEY LAKE           MT      IDAHO FALLS                ID          F   \n",
       "2950      DENMARK           WI        STOUGHTON                WI          F   \n",
       "4733      HOBOKEN           GA      WINTER HAVE                FL          F   \n",
       "651     BALTIMORE           MD           SHELBY                OH          F   \n",
       "...           ...          ...              ...               ...        ...   \n",
       "5965    LUMBERTON           MS        LAKE CITY                FL          F   \n",
       "8643   SCOTT CITY           MO          SATANTA                KS          F   \n",
       "6035    LUMBERTON           MS           CONROE                TX          F   \n",
       "4713      HOBOKEN           GA        CHANTILLY                VA          F   \n",
       "111        ALBANY           GA         WOODRUFF                SC          F   \n",
       "\n",
       "      min_rate  max_rate  \n",
       "605       3600      3600  \n",
       "8658       900       900  \n",
       "2950       450       450  \n",
       "4733       700       700  \n",
       "651       1100      1100  \n",
       "...        ...       ...  \n",
       "5965      1000      1000  \n",
       "8643      1900      1900  \n",
       "6035       800       800  \n",
       "4713      1200      1200  \n",
       "111        650       650  \n",
       "\n",
       "[1496 rows x 11 columns]"
      ]
     },
     "execution_count": 8,
     "metadata": {},
     "output_type": "execute_result"
    }
   ],
   "source": [
    "specific_date = datetime(2023, 12, 1)\n",
    "deleted_after_specific_date = df[df['deleted_time'] > specific_date]\n",
    "deleted_after_specific_date.sort_values(by='deleted_time')"
   ]
  },
  {
   "cell_type": "markdown",
   "id": "b0cccc18",
   "metadata": {},
   "source": [
    "**There are `1496` records which are deleted after `2023-12-01`.**"
   ]
  },
  {
   "cell_type": "code",
   "execution_count": null,
   "id": "2a4cabca",
   "metadata": {},
   "outputs": [],
   "source": []
  },
  {
   "cell_type": "markdown",
   "id": "e45bcb7c",
   "metadata": {},
   "source": [
    "<h3 style=\"color:blue; background:lightblue;line-height:1.5\">2.3. Analyze trends in data additions, updates, and deletions. Summarize your findings.</h3>"
   ]
  },
  {
   "cell_type": "markdown",
   "id": "01275176",
   "metadata": {},
   "source": [
    "### 2.3.1. Numerical Column Analysis: Distribution of Data points"
   ]
  },
  {
   "cell_type": "code",
   "execution_count": 10,
   "id": "cf1e1dd5",
   "metadata": {},
   "outputs": [
    {
     "data": {
      "image/png": "[encoded data removed]",
      "text/plain": [
       "<Figure size 1296x432 with 2 Axes>"
      ]
     },
     "metadata": {
      "needs_background": "light"
     },
     "output_type": "display_data"
    },
    {
     "data": {
      "image/png": "[encoded data removed]",
      "text/plain": [
       "<Figure size 1296x432 with 2 Axes>"
      ]
     },
     "metadata": {
      "needs_background": "light"
     },
     "output_type": "display_data"
    }
   ],
   "source": [
    "num_cols=['min_rate','max_rate']\n",
    "\n",
    "for col in num_cols:\n",
    "    plt.figure(figsize=(18,6))\n",
    "    plt.subplot(121)\n",
    "    sns.histplot(x=col, data=df, kde=True, color='orange')\n",
    "    \n",
    "    plt.subplot(122)\n",
    "    sns.boxplot(x=col, data=df, color='lightgreen')\n",
    "    plt.suptitle(f\"Distribution of {col}\", fontsize=18, color='red');"
   ]
  },
  {
   "cell_type": "markdown",
   "id": "9860ca8a",
   "metadata": {},
   "source": [
    "### Observation:\n",
    "1. **The consistent values for both min_rate and max_rate across all reference_ids indicate a standardized or uniform pricing structure.**\n",
    "2. **The right or positively skewed distribution in both columns suggests that the majority of loads have lower rates, but there are occasional instances with higher rates. Understanding this distribution can guide pricing strategies, allowing for flexibility in accommodating various load types while maintaining competitiveness.**\n",
    "3. **The presence of extreme outlier values, as identified in the Box-Plot, highlights potential anomalies in pricing.**"
   ]
  },
  {
   "cell_type": "code",
   "execution_count": null,
   "id": "582a45b5",
   "metadata": {},
   "outputs": [],
   "source": []
  },
  {
   "cell_type": "markdown",
   "id": "cec9a3d2",
   "metadata": {},
   "source": [
    "### 2.3.2. Analyze trend in data addition and deletion."
   ]
  },
  {
   "cell_type": "code",
   "execution_count": 43,
   "id": "e0eaa931",
   "metadata": {},
   "outputs": [
    {
     "data": {
      "application/vnd.plotly.v1+json": {
       "config": {
        "plotlyServerURL": "https://plot.ly"
       },
       "data": [
        {
         "mode": "lines",
         "name": "Count",
         "type": "scatter",
         "x": [
          "2023-10-03",
          "2023-10-04",
          "2023-10-05",
          "2023-10-06",
          "2023-10-09",
          "2023-10-10",
          "2023-10-11",
          "2023-10-12",
          "2023-10-13",
          "2023-10-14",
          "2023-10-15",
          "2023-10-16",
          "2023-10-17",
          "2023-10-18",
          "2023-10-19",
          "2023-10-20",
          "2023-10-21",
          "2023-10-22",
          "2023-10-23",
          "2023-10-24",
          "2023-10-25",
          "2023-10-26",
          "2023-10-27",
          "2023-10-30",
          "2023-10-31",
          "2023-11-01",
          "2023-11-02",
          "2023-11-03",
          "2023-11-06",
          "2023-11-07",
          "2023-11-08",
          "2023-11-09",
          "2023-11-10",
          "2023-11-12",
          "2023-11-13",
          "2023-11-14",
          "2023-11-15",
          "2023-11-16",
          "2023-11-17",
          "2023-11-20",
          "2023-11-21",
          "2023-11-22",
          "2023-11-27",
          "2023-11-28",
          "2023-11-29",
          "2023-11-30",
          "2023-12-01",
          "2023-12-04",
          "2023-12-05",
          "2023-12-06",
          "2023-12-07",
          "2023-12-08",
          "2023-12-09",
          "2023-12-11",
          "2023-12-12",
          "2023-12-13"
         ],
         "y": [
          224,
          208,
          330,
          177,
          263,
          230,
          226,
          222,
          204,
          1,
          1,
          190,
          169,
          135,
          174,
          128,
          1,
          1,
          198,
          180,
          168,
          211,
          157,
          255,
          212,
          195,
          203,
          167,
          234,
          267,
          186,
          189,
          165,
          5,
          251,
          178,
          210,
          230,
          188,
          190,
          238,
          148,
          264,
          228,
          187,
          202,
          19,
          189,
          234,
          254,
          167,
          233,
          3,
          179,
          123,
          5
         ]
        }
       ],
       "layout": {
        "template": {
         "data": {
          "bar": [
           {
            "error_x": {
             "color": "#2a3f5f"
            },
            "error_y": {
             "color": "#2a3f5f"
            },
            "marker": {
             "line": {
              "color": "#E5ECF6",
              "width": 0.5
             },
             "pattern": {
              "fillmode": "overlay",
              "size": 10,
              "solidity": 0.2
             }
            },
            "type": "bar"
           }
          ],
          "barpolar": [
           {
            "marker": {
             "line": {
              "color": "#E5ECF6",
              "width": 0.5
             },
             "pattern": {
              "fillmode": "overlay",
              "size": 10,
              "solidity": 0.2
             }
            },
            "type": "barpolar"
           }
          ],
          "carpet": [
           {
            "aaxis": {
             "endlinecolor": "#2a3f5f",
             "gridcolor": "white",
             "linecolor": "white",
             "minorgridcolor": "white",
             "startlinecolor": "#2a3f5f"
            },
            "baxis": {
             "endlinecolor": "#2a3f5f",
             "gridcolor": "white",
             "linecolor": "white",
             "minorgridcolor": "white",
             "startlinecolor": "#2a3f5f"
            },
            "type": "carpet"
           }
          ],
          "choropleth": [
           {
            "colorbar": {
             "outlinewidth": 0,
             "ticks": ""
            },
            "type": "choropleth"
           }
          ],
          "contour": [
           {
            "colorbar": {
             "outlinewidth": 0,
             "ticks": ""
            },
            "colorscale": [
             [
              0,
              "#0d0887"
             ],
             [
              0.1111111111111111,
              "#46039f"
             ],
             [
              0.2222222222222222,
              "#7201a8"
             ],
             [
              0.3333333333333333,
              "#9c179e"
             ],
             [
              0.4444444444444444,
              "#bd3786"
             ],
             [
              0.5555555555555556,
              "#d8576b"
             ],
             [
              0.6666666666666666,
              "#ed7953"
             ],
             [
              0.7777777777777778,
              "#fb9f3a"
             ],
             [
              0.8888888888888888,
              "#fdca26"
             ],
             [
              1,
              "#f0f921"
             ]
            ],
            "type": "contour"
           }
          ],
          "contourcarpet": [
           {
            "colorbar": {
             "outlinewidth": 0,
             "ticks": ""
            },
            "type": "contourcarpet"
           }
          ],
          "heatmap": [
           {
            "colorbar": {
             "outlinewidth": 0,
             "ticks": ""
            },
            "colorscale": [
             [
              0,
              "#0d0887"
             ],
             [
              0.1111111111111111,
              "#46039f"
             ],
             [
              0.2222222222222222,
              "#7201a8"
             ],
             [
              0.3333333333333333,
              "#9c179e"
             ],
             [
              0.4444444444444444,
              "#bd3786"
             ],
             [
              0.5555555555555556,
              "#d8576b"
             ],
             [
              0.6666666666666666,
              "#ed7953"
             ],
             [
              0.7777777777777778,
              "#fb9f3a"
             ],
             [
              0.8888888888888888,
              "#fdca26"
             ],
             [
              1,
              "#f0f921"
             ]
            ],
            "type": "heatmap"
           }
          ],
          "heatmapgl": [
           {
            "colorbar": {
             "outlinewidth": 0,
             "ticks": ""
            },
            "colorscale": [
             [
              0,
              "#0d0887"
             ],
             [
              0.1111111111111111,
              "#46039f"
             ],
             [
              0.2222222222222222,
              "#7201a8"
             ],
             [
              0.3333333333333333,
              "#9c179e"
             ],
             [
              0.4444444444444444,
              "#bd3786"
             ],
             [
              0.5555555555555556,
              "#d8576b"
             ],
             [
              0.6666666666666666,
              "#ed7953"
             ],
             [
              0.7777777777777778,
              "#fb9f3a"
             ],
             [
              0.8888888888888888,
              "#fdca26"
             ],
             [
              1,
              "#f0f921"
             ]
            ],
            "type": "heatmapgl"
           }
          ],
          "histogram": [
           {
            "marker": {
             "pattern": {
              "fillmode": "overlay",
              "size": 10,
              "solidity": 0.2
             }
            },
            "type": "histogram"
           }
          ],
          "histogram2d": [
           {
            "colorbar": {
             "outlinewidth": 0,
             "ticks": ""
            },
            "colorscale": [
             [
              0,
              "#0d0887"
             ],
             [
              0.1111111111111111,
              "#46039f"
             ],
             [
              0.2222222222222222,
              "#7201a8"
             ],
             [
              0.3333333333333333,
              "#9c179e"
             ],
             [
              0.4444444444444444,
              "#bd3786"
             ],
             [
              0.5555555555555556,
              "#d8576b"
             ],
             [
              0.6666666666666666,
              "#ed7953"
             ],
             [
              0.7777777777777778,
              "#fb9f3a"
             ],
             [
              0.8888888888888888,
              "#fdca26"
             ],
             [
              1,
              "#f0f921"
             ]
            ],
            "type": "histogram2d"
           }
          ],
          "histogram2dcontour": [
           {
            "colorbar": {
             "outlinewidth": 0,
             "ticks": ""
            },
            "colorscale": [
             [
              0,
              "#0d0887"
             ],
             [
              0.1111111111111111,
              "#46039f"
             ],
             [
              0.2222222222222222,
              "#7201a8"
             ],
             [
              0.3333333333333333,
              "#9c179e"
             ],
             [
              0.4444444444444444,
              "#bd3786"
             ],
             [
              0.5555555555555556,
              "#d8576b"
             ],
             [
              0.6666666666666666,
              "#ed7953"
             ],
             [
              0.7777777777777778,
              "#fb9f3a"
             ],
             [
              0.8888888888888888,
              "#fdca26"
             ],
             [
              1,
              "#f0f921"
             ]
            ],
            "type": "histogram2dcontour"
           }
          ],
          "mesh3d": [
           {
            "colorbar": {
             "outlinewidth": 0,
             "ticks": ""
            },
            "type": "mesh3d"
           }
          ],
          "parcoords": [
           {
            "line": {
             "colorbar": {
              "outlinewidth": 0,
              "ticks": ""
             }
            },
            "type": "parcoords"
           }
          ],
          "pie": [
           {
            "automargin": true,
            "type": "pie"
           }
          ],
          "scatter": [
           {
            "fillpattern": {
             "fillmode": "overlay",
             "size": 10,
             "solidity": 0.2
            },
            "type": "scatter"
           }
          ],
          "scatter3d": [
           {
            "line": {
             "colorbar": {
              "outlinewidth": 0,
              "ticks": ""
             }
            },
            "marker": {
             "colorbar": {
              "outlinewidth": 0,
              "ticks": ""
             }
            },
            "type": "scatter3d"
           }
          ],
          "scattercarpet": [
           {
            "marker": {
             "colorbar": {
              "outlinewidth": 0,
              "ticks": ""
             }
            },
            "type": "scattercarpet"
           }
          ],
          "scattergeo": [
           {
            "marker": {
             "colorbar": {
              "outlinewidth": 0,
              "ticks": ""
             }
            },
            "type": "scattergeo"
           }
          ],
          "scattergl": [
           {
            "marker": {
             "colorbar": {
              "outlinewidth": 0,
              "ticks": ""
             }
            },
            "type": "scattergl"
           }
          ],
          "scattermapbox": [
           {
            "marker": {
             "colorbar": {
              "outlinewidth": 0,
              "ticks": ""
             }
            },
            "type": "scattermapbox"
           }
          ],
          "scatterpolar": [
           {
            "marker": {
             "colorbar": {
              "outlinewidth": 0,
              "ticks": ""
             }
            },
            "type": "scatterpolar"
           }
          ],
          "scatterpolargl": [
           {
            "marker": {
             "colorbar": {
              "outlinewidth": 0,
              "ticks": ""
             }
            },
            "type": "scatterpolargl"
           }
          ],
          "scatterternary": [
           {
            "marker": {
             "colorbar": {
              "outlinewidth": 0,
              "ticks": ""
             }
            },
            "type": "scatterternary"
           }
          ],
          "surface": [
           {
            "colorbar": {
             "outlinewidth": 0,
             "ticks": ""
            },
            "colorscale": [
             [
              0,
              "#0d0887"
             ],
             [
              0.1111111111111111,
              "#46039f"
             ],
             [
              0.2222222222222222,
              "#7201a8"
             ],
             [
              0.3333333333333333,
              "#9c179e"
             ],
             [
              0.4444444444444444,
              "#bd3786"
             ],
             [
              0.5555555555555556,
              "#d8576b"
             ],
             [
              0.6666666666666666,
              "#ed7953"
             ],
             [
              0.7777777777777778,
              "#fb9f3a"
             ],
             [
              0.8888888888888888,
              "#fdca26"
             ],
             [
              1,
              "#f0f921"
             ]
            ],
            "type": "surface"
           }
          ],
          "table": [
           {
            "cells": {
             "fill": {
              "color": "#EBF0F8"
             },
             "line": {
              "color": "white"
             }
            },
            "header": {
             "fill": {
              "color": "#C8D4E3"
             },
             "line": {
              "color": "white"
             }
            },
            "type": "table"
           }
          ]
         },
         "layout": {
          "annotationdefaults": {
           "arrowcolor": "#2a3f5f",
           "arrowhead": 0,
           "arrowwidth": 1
          },
          "autotypenumbers": "strict",
          "coloraxis": {
           "colorbar": {
            "outlinewidth": 0,
            "ticks": ""
           }
          },
          "colorscale": {
           "diverging": [
            [
             0,
             "#8e0152"
            ],
            [
             0.1,
             "#c51b7d"
            ],
            [
             0.2,
             "#de77ae"
            ],
            [
             0.3,
             "#f1b6da"
            ],
            [
             0.4,
             "#fde0ef"
            ],
            [
             0.5,
             "#f7f7f7"
            ],
            [
             0.6,
             "#e6f5d0"
            ],
            [
             0.7,
             "#b8e186"
            ],
            [
             0.8,
             "#7fbc41"
            ],
            [
             0.9,
             "#4d9221"
            ],
            [
             1,
             "#276419"
            ]
           ],
           "sequential": [
            [
             0,
             "#0d0887"
            ],
            [
             0.1111111111111111,
             "#46039f"
            ],
            [
             0.2222222222222222,
             "#7201a8"
            ],
            [
             0.3333333333333333,
             "#9c179e"
            ],
            [
             0.4444444444444444,
             "#bd3786"
            ],
            [
             0.5555555555555556,
             "#d8576b"
            ],
            [
             0.6666666666666666,
             "#ed7953"
            ],
            [
             0.7777777777777778,
             "#fb9f3a"
            ],
            [
             0.8888888888888888,
             "#fdca26"
            ],
            [
             1,
             "#f0f921"
            ]
           ],
           "sequentialminus": [
            [
             0,
             "#0d0887"
            ],
            [
             0.1111111111111111,
             "#46039f"
            ],
            [
             0.2222222222222222,
             "#7201a8"
            ],
            [
             0.3333333333333333,
             "#9c179e"
            ],
            [
             0.4444444444444444,
             "#bd3786"
            ],
            [
             0.5555555555555556,
             "#d8576b"
            ],
            [
             0.6666666666666666,
             "#ed7953"
            ],
            [
             0.7777777777777778,
             "#fb9f3a"
            ],
            [
             0.8888888888888888,
             "#fdca26"
            ],
            [
             1,
             "#f0f921"
            ]
           ]
          },
          "colorway": [
           "#636efa",
           "#EF553B",
           "#00cc96",
           "#ab63fa",
           "#FFA15A",
           "#19d3f3",
           "#FF6692",
           "#B6E880",
           "#FF97FF",
           "#FECB52"
          ],
          "font": {
           "color": "#2a3f5f"
          },
          "geo": {
           "bgcolor": "white",
           "lakecolor": "white",
           "landcolor": "#E5ECF6",
           "showlakes": true,
           "showland": true,
           "subunitcolor": "white"
          },
          "hoverlabel": {
           "align": "left"
          },
          "hovermode": "closest",
          "mapbox": {
           "style": "light"
          },
          "paper_bgcolor": "white",
          "plot_bgcolor": "#E5ECF6",
          "polar": {
           "angularaxis": {
            "gridcolor": "white",
            "linecolor": "white",
            "ticks": ""
           },
           "bgcolor": "#E5ECF6",
           "radialaxis": {
            "gridcolor": "white",
            "linecolor": "white",
            "ticks": ""
           }
          },
          "scene": {
           "xaxis": {
            "backgroundcolor": "#E5ECF6",
            "gridcolor": "white",
            "gridwidth": 2,
            "linecolor": "white",
            "showbackground": true,
            "ticks": "",
            "zerolinecolor": "white"
           },
           "yaxis": {
            "backgroundcolor": "#E5ECF6",
            "gridcolor": "white",
            "gridwidth": 2,
            "linecolor": "white",
            "showbackground": true,
            "ticks": "",
            "zerolinecolor": "white"
           },
           "zaxis": {
            "backgroundcolor": "#E5ECF6",
            "gridcolor": "white",
            "gridwidth": 2,
            "linecolor": "white",
            "showbackground": true,
            "ticks": "",
            "zerolinecolor": "white"
           }
          },
          "shapedefaults": {
           "line": {
            "color": "#2a3f5f"
           }
          },
          "ternary": {
           "aaxis": {
            "gridcolor": "white",
            "linecolor": "white",
            "ticks": ""
           },
           "baxis": {
            "gridcolor": "white",
            "linecolor": "white",
            "ticks": ""
           },
           "bgcolor": "#E5ECF6",
           "caxis": {
            "gridcolor": "white",
            "linecolor": "white",
            "ticks": ""
           }
          },
          "title": {
           "x": 0.05
          },
          "xaxis": {
           "automargin": true,
           "gridcolor": "white",
           "linecolor": "white",
           "ticks": "",
           "title": {
            "standoff": 15
           },
           "zerolinecolor": "white",
           "zerolinewidth": 2
          },
          "yaxis": {
           "automargin": true,
           "gridcolor": "white",
           "linecolor": "white",
           "ticks": "",
           "title": {
            "standoff": 15
           },
           "zerolinecolor": "white",
           "zerolinewidth": 2
          }
         }
        },
        "title": {
         "text": "Line Graph of Rows Count by Added Date"
        },
        "xaxis": {
         "title": {
          "text": "Added Date"
         }
        },
        "yaxis": {
         "title": {
          "text": "Count"
         }
        }
       }
      },
      "text/html": [
       "<div>                            <div id=\"802ea523-f6be-4096-aed7-0ff568937655\" class=\"plotly-graph-div\" style=\"height:525px; width:100%;\"></div>            <script type=\"text/javascript\">                require([\"plotly\"], function(Plotly) {                    window.PLOTLYENV=window.PLOTLYENV || {};                                    if (document.getElementById(\"802ea523-f6be-4096-aed7-0ff568937655\")) {                    Plotly.newPlot(                        \"802ea523-f6be-4096-aed7-0ff568937655\",                        [{\"mode\":\"lines\",\"name\":\"Count\",\"x\":[\"2023-10-03\",\"2023-10-04\",\"2023-10-05\",\"2023-10-06\",\"2023-10-09\",\"2023-10-10\",\"2023-10-11\",\"2023-10-12\",\"2023-10-13\",\"2023-10-14\",\"2023-10-15\",\"2023-10-16\",\"2023-10-17\",\"2023-10-18\",\"2023-10-19\",\"2023-10-20\",\"2023-10-21\",\"2023-10-22\",\"2023-10-23\",\"2023-10-24\",\"2023-10-25\",\"2023-10-26\",\"2023-10-27\",\"2023-10-30\",\"2023-10-31\",\"2023-11-01\",\"2023-11-02\",\"2023-11-03\",\"2023-11-06\",\"2023-11-07\",\"2023-11-08\",\"2023-11-09\",\"2023-11-10\",\"2023-11-12\",\"2023-11-13\",\"2023-11-14\",\"2023-11-15\",\"2023-11-16\",\"2023-11-17\",\"2023-11-20\",\"2023-11-21\",\"2023-11-22\",\"2023-11-27\",\"2023-11-28\",\"2023-11-29\",\"2023-11-30\",\"2023-12-01\",\"2023-12-04\",\"2023-12-05\",\"2023-12-06\",\"2023-12-07\",\"2023-12-08\",\"2023-12-09\",\"2023-12-11\",\"2023-12-12\",\"2023-12-13\"],\"y\":[224,208,330,177,263,230,226,222,204,1,1,190,169,135,174,128,1,1,198,180,168,211,157,255,212,195,203,167,234,267,186,189,165,5,251,178,210,230,188,190,238,148,264,228,187,202,19,189,234,254,167,233,3,179,123,5],\"type\":\"scatter\"}],                        {\"template\":{\"data\":{\"histogram2dcontour\":[{\"type\":\"histogram2dcontour\",\"colorbar\":{\"outlinewidth\":0,\"ticks\":\"\"},\"colorscale\":[[0.0,\"#0d0887\"],[0.1111111111111111,\"#46039f\"],[0.2222222222222222,\"#7201a8\"],[0.3333333333333333,\"#9c179e\"],[0.4444444444444444,\"#bd3786\"],[0.5555555555555556,\"#d8576b\"],[0.6666666666666666,\"#ed7953\"],[0.7777777777777778,\"#fb9f3a\"],[0.8888888888888888,\"#fdca26\"],[1.0,\"#f0f921\"]]}],\"choropleth\":[{\"type\":\"choropleth\",\"colorbar\":{\"outlinewidth\":0,\"ticks\":\"\"}}],\"histogram2d\":[{\"type\":\"histogram2d\",\"colorbar\":{\"outlinewidth\":0,\"ticks\":\"\"},\"colorscale\":[[0.0,\"#0d0887\"],[0.1111111111111111,\"#46039f\"],[0.2222222222222222,\"#7201a8\"],[0.3333333333333333,\"#9c179e\"],[0.4444444444444444,\"#bd3786\"],[0.5555555555555556,\"#d8576b\"],[0.6666666666666666,\"#ed7953\"],[0.7777777777777778,\"#fb9f3a\"],[0.8888888888888888,\"#fdca26\"],[1.0,\"#f0f921\"]]}],\"heatmap\":[{\"type\":\"heatmap\",\"colorbar\":{\"outlinewidth\":0,\"ticks\":\"\"},\"colorscale\":[[0.0,\"#0d0887\"],[0.1111111111111111,\"#46039f\"],[0.2222222222222222,\"#7201a8\"],[0.3333333333333333,\"#9c179e\"],[0.4444444444444444,\"#bd3786\"],[0.5555555555555556,\"#d8576b\"],[0.6666666666666666,\"#ed7953\"],[0.7777777777777778,\"#fb9f3a\"],[0.8888888888888888,\"#fdca26\"],[1.0,\"#f0f921\"]]}],\"heatmapgl\":[{\"type\":\"heatmapgl\",\"colorbar\":{\"outlinewidth\":0,\"ticks\":\"\"},\"colorscale\":[[0.0,\"#0d0887\"],[0.1111111111111111,\"#46039f\"],[0.2222222222222222,\"#7201a8\"],[0.3333333333333333,\"#9c179e\"],[0.4444444444444444,\"#bd3786\"],[0.5555555555555556,\"#d8576b\"],[0.6666666666666666,\"#ed7953\"],[0.7777777777777778,\"#fb9f3a\"],[0.8888888888888888,\"#fdca26\"],[1.0,\"#f0f921\"]]}],\"contourcarpet\":[{\"type\":\"contourcarpet\",\"colorbar\":{\"outlinewidth\":0,\"ticks\":\"\"}}],\"contour\":[{\"type\":\"contour\",\"colorbar\":{\"outlinewidth\":0,\"ticks\":\"\"},\"colorscale\":[[0.0,\"#0d0887\"],[0.1111111111111111,\"#46039f\"],[0.2222222222222222,\"#7201a8\"],[0.3333333333333333,\"#9c179e\"],[0.4444444444444444,\"#bd3786\"],[0.5555555555555556,\"#d8576b\"],[0.6666666666666666,\"#ed7953\"],[0.7777777777777778,\"#fb9f3a\"],[0.8888888888888888,\"#fdca26\"],[1.0,\"#f0f921\"]]}],\"surface\":[{\"type\":\"surface\",\"colorbar\":{\"outlinewidth\":0,\"ticks\":\"\"},\"colorscale\":[[0.0,\"#0d0887\"],[0.1111111111111111,\"#46039f\"],[0.2222222222222222,\"#7201a8\"],[0.3333333333333333,\"#9c179e\"],[0.4444444444444444,\"#bd3786\"],[0.5555555555555556,\"#d8576b\"],[0.6666666666666666,\"#ed7953\"],[0.7777777777777778,\"#fb9f3a\"],[0.8888888888888888,\"#fdca26\"],[1.0,\"#f0f921\"]]}],\"mesh3d\":[{\"type\":\"mesh3d\",\"colorbar\":{\"outlinewidth\":0,\"ticks\":\"\"}}],\"scatter\":[{\"fillpattern\":{\"fillmode\":\"overlay\",\"size\":10,\"solidity\":0.2},\"type\":\"scatter\"}],\"parcoords\":[{\"type\":\"parcoords\",\"line\":{\"colorbar\":{\"outlinewidth\":0,\"ticks\":\"\"}}}],\"scatterpolargl\":[{\"type\":\"scatterpolargl\",\"marker\":{\"colorbar\":{\"outlinewidth\":0,\"ticks\":\"\"}}}],\"bar\":[{\"error_x\":{\"color\":\"#2a3f5f\"},\"error_y\":{\"color\":\"#2a3f5f\"},\"marker\":{\"line\":{\"color\":\"#E5ECF6\",\"width\":0.5},\"pattern\":{\"fillmode\":\"overlay\",\"size\":10,\"solidity\":0.2}},\"type\":\"bar\"}],\"scattergeo\":[{\"type\":\"scattergeo\",\"marker\":{\"colorbar\":{\"outlinewidth\":0,\"ticks\":\"\"}}}],\"scatterpolar\":[{\"type\":\"scatterpolar\",\"marker\":{\"colorbar\":{\"outlinewidth\":0,\"ticks\":\"\"}}}],\"histogram\":[{\"marker\":{\"pattern\":{\"fillmode\":\"overlay\",\"size\":10,\"solidity\":0.2}},\"type\":\"histogram\"}],\"scattergl\":[{\"type\":\"scattergl\",\"marker\":{\"colorbar\":{\"outlinewidth\":0,\"ticks\":\"\"}}}],\"scatter3d\":[{\"type\":\"scatter3d\",\"line\":{\"colorbar\":{\"outlinewidth\":0,\"ticks\":\"\"}},\"marker\":{\"colorbar\":{\"outlinewidth\":0,\"ticks\":\"\"}}}],\"scattermapbox\":[{\"type\":\"scattermapbox\",\"marker\":{\"colorbar\":{\"outlinewidth\":0,\"ticks\":\"\"}}}],\"scatterternary\":[{\"type\":\"scatterternary\",\"marker\":{\"colorbar\":{\"outlinewidth\":0,\"ticks\":\"\"}}}],\"scattercarpet\":[{\"type\":\"scattercarpet\",\"marker\":{\"colorbar\":{\"outlinewidth\":0,\"ticks\":\"\"}}}],\"carpet\":[{\"aaxis\":{\"endlinecolor\":\"#2a3f5f\",\"gridcolor\":\"white\",\"linecolor\":\"white\",\"minorgridcolor\":\"white\",\"startlinecolor\":\"#2a3f5f\"},\"baxis\":{\"endlinecolor\":\"#2a3f5f\",\"gridcolor\":\"white\",\"linecolor\":\"white\",\"minorgridcolor\":\"white\",\"startlinecolor\":\"#2a3f5f\"},\"type\":\"carpet\"}],\"table\":[{\"cells\":{\"fill\":{\"color\":\"#EBF0F8\"},\"line\":{\"color\":\"white\"}},\"header\":{\"fill\":{\"color\":\"#C8D4E3\"},\"line\":{\"color\":\"white\"}},\"type\":\"table\"}],\"barpolar\":[{\"marker\":{\"line\":{\"color\":\"#E5ECF6\",\"width\":0.5},\"pattern\":{\"fillmode\":\"overlay\",\"size\":10,\"solidity\":0.2}},\"type\":\"barpolar\"}],\"pie\":[{\"automargin\":true,\"type\":\"pie\"}]},\"layout\":{\"autotypenumbers\":\"strict\",\"colorway\":[\"#636efa\",\"#EF553B\",\"#00cc96\",\"#ab63fa\",\"#FFA15A\",\"#19d3f3\",\"#FF6692\",\"#B6E880\",\"#FF97FF\",\"#FECB52\"],\"font\":{\"color\":\"#2a3f5f\"},\"hovermode\":\"closest\",\"hoverlabel\":{\"align\":\"left\"},\"paper_bgcolor\":\"white\",\"plot_bgcolor\":\"#E5ECF6\",\"polar\":{\"bgcolor\":\"#E5ECF6\",\"angularaxis\":{\"gridcolor\":\"white\",\"linecolor\":\"white\",\"ticks\":\"\"},\"radialaxis\":{\"gridcolor\":\"white\",\"linecolor\":\"white\",\"ticks\":\"\"}},\"ternary\":{\"bgcolor\":\"#E5ECF6\",\"aaxis\":{\"gridcolor\":\"white\",\"linecolor\":\"white\",\"ticks\":\"\"},\"baxis\":{\"gridcolor\":\"white\",\"linecolor\":\"white\",\"ticks\":\"\"},\"caxis\":{\"gridcolor\":\"white\",\"linecolor\":\"white\",\"ticks\":\"\"}},\"coloraxis\":{\"colorbar\":{\"outlinewidth\":0,\"ticks\":\"\"}},\"colorscale\":{\"sequential\":[[0.0,\"#0d0887\"],[0.1111111111111111,\"#46039f\"],[0.2222222222222222,\"#7201a8\"],[0.3333333333333333,\"#9c179e\"],[0.4444444444444444,\"#bd3786\"],[0.5555555555555556,\"#d8576b\"],[0.6666666666666666,\"#ed7953\"],[0.7777777777777778,\"#fb9f3a\"],[0.8888888888888888,\"#fdca26\"],[1.0,\"#f0f921\"]],\"sequentialminus\":[[0.0,\"#0d0887\"],[0.1111111111111111,\"#46039f\"],[0.2222222222222222,\"#7201a8\"],[0.3333333333333333,\"#9c179e\"],[0.4444444444444444,\"#bd3786\"],[0.5555555555555556,\"#d8576b\"],[0.6666666666666666,\"#ed7953\"],[0.7777777777777778,\"#fb9f3a\"],[0.8888888888888888,\"#fdca26\"],[1.0,\"#f0f921\"]],\"diverging\":[[0,\"#8e0152\"],[0.1,\"#c51b7d\"],[0.2,\"#de77ae\"],[0.3,\"#f1b6da\"],[0.4,\"#fde0ef\"],[0.5,\"#f7f7f7\"],[0.6,\"#e6f5d0\"],[0.7,\"#b8e186\"],[0.8,\"#7fbc41\"],[0.9,\"#4d9221\"],[1,\"#276419\"]]},\"xaxis\":{\"gridcolor\":\"white\",\"linecolor\":\"white\",\"ticks\":\"\",\"title\":{\"standoff\":15},\"zerolinecolor\":\"white\",\"automargin\":true,\"zerolinewidth\":2},\"yaxis\":{\"gridcolor\":\"white\",\"linecolor\":\"white\",\"ticks\":\"\",\"title\":{\"standoff\":15},\"zerolinecolor\":\"white\",\"automargin\":true,\"zerolinewidth\":2},\"scene\":{\"xaxis\":{\"backgroundcolor\":\"#E5ECF6\",\"gridcolor\":\"white\",\"linecolor\":\"white\",\"showbackground\":true,\"ticks\":\"\",\"zerolinecolor\":\"white\",\"gridwidth\":2},\"yaxis\":{\"backgroundcolor\":\"#E5ECF6\",\"gridcolor\":\"white\",\"linecolor\":\"white\",\"showbackground\":true,\"ticks\":\"\",\"zerolinecolor\":\"white\",\"gridwidth\":2},\"zaxis\":{\"backgroundcolor\":\"#E5ECF6\",\"gridcolor\":\"white\",\"linecolor\":\"white\",\"showbackground\":true,\"ticks\":\"\",\"zerolinecolor\":\"white\",\"gridwidth\":2}},\"shapedefaults\":{\"line\":{\"color\":\"#2a3f5f\"}},\"annotationdefaults\":{\"arrowcolor\":\"#2a3f5f\",\"arrowhead\":0,\"arrowwidth\":1},\"geo\":{\"bgcolor\":\"white\",\"landcolor\":\"#E5ECF6\",\"subunitcolor\":\"white\",\"showland\":true,\"showlakes\":true,\"lakecolor\":\"white\"},\"title\":{\"x\":0.05},\"mapbox\":{\"style\":\"light\"}}},\"title\":{\"text\":\"Line Graph of Rows Count by Added Date\"},\"xaxis\":{\"title\":{\"text\":\"Added Date\"}},\"yaxis\":{\"title\":{\"text\":\"Count\"}}},                        {\"responsive\": true}                    ).then(function(){\n",
       "                            \n",
       "var gd = document.getElementById('802ea523-f6be-4096-aed7-0ff568937655');\n",
       "var x = new MutationObserver(function (mutations, observer) {{\n",
       "        var display = window.getComputedStyle(gd).display;\n",
       "        if (!display || display === 'none') {{\n",
       "            console.log([gd, 'removed!']);\n",
       "            Plotly.purge(gd);\n",
       "            observer.disconnect();\n",
       "        }}\n",
       "}});\n",
       "\n",
       "// Listen for the removal of the full notebook cells\n",
       "var notebookContainer = gd.closest('#notebook-container');\n",
       "if (notebookContainer) {{\n",
       "    x.observe(notebookContainer, {childList: true});\n",
       "}}\n",
       "\n",
       "// Listen for the clearing of the current output cell\n",
       "var outputEl = gd.closest('.output');\n",
       "if (outputEl) {{\n",
       "    x.observe(outputEl, {childList: true});\n",
       "}}\n",
       "\n",
       "                        })                };                });            </script>        </div>"
      ]
     },
     "metadata": {},
     "output_type": "display_data"
    }
   ],
   "source": [
    "df['added_date'] = df['added_time'].dt.date\n",
    "\n",
    "count_by_date = df.groupby('added_date').size().reset_index(name='count')\n",
    "\n",
    "fig = go.Figure()\n",
    "\n",
    "fig.add_trace(go.Scatter(x=count_by_date['added_date'], y=count_by_date['count'], mode='lines', name='Count'))\n",
    "\n",
    "fig.update_layout(\n",
    "    title='Line Graph of Rows Count by Added Date',\n",
    "    xaxis=dict(title='Added Date'),\n",
    "    yaxis=dict(title='Count'))\n",
    "\n",
    "# Show the plot\n",
    "fig.show()"
   ]
  },
  {
   "attachments": {
    "added_date_line_chart.png": {
     "image/png": "[encoded data removed]"
    }
   },
   "cell_type": "markdown",
   "id": "0c9c76cb",
   "metadata": {},
   "source": [
    "![added_date_line_chart.png](attachment:added_date_line_chart.png)"
   ]
  },
  {
   "cell_type": "code",
   "execution_count": 44,
   "id": "a123af66",
   "metadata": {},
   "outputs": [
    {
     "data": {
      "application/vnd.plotly.v1+json": {
       "config": {
        "plotlyServerURL": "https://plot.ly"
       },
       "data": [
        {
         "mode": "lines",
         "name": "Count",
         "type": "scatter",
         "x": [
          "2023-10-03",
          "2023-10-04",
          "2023-10-05",
          "2023-10-06",
          "2023-10-07",
          "2023-10-09",
          "2023-10-10",
          "2023-10-11",
          "2023-10-12",
          "2023-10-13",
          "2023-10-14",
          "2023-10-15",
          "2023-10-16",
          "2023-10-17",
          "2023-10-18",
          "2023-10-19",
          "2023-10-20",
          "2023-10-21",
          "2023-10-22",
          "2023-10-23",
          "2023-10-24",
          "2023-10-25",
          "2023-10-26",
          "2023-10-27",
          "2023-10-28",
          "2023-10-29",
          "2023-10-30",
          "2023-10-31",
          "2023-11-01",
          "2023-11-02",
          "2023-11-03",
          "2023-11-06",
          "2023-11-07",
          "2023-11-08",
          "2023-11-09",
          "2023-11-10",
          "2023-11-11",
          "2023-11-12",
          "2023-11-13",
          "2023-11-14",
          "2023-11-15",
          "2023-11-16",
          "2023-11-17",
          "2023-11-18",
          "2023-11-19",
          "2023-11-20",
          "2023-11-21",
          "2023-11-22",
          "2023-11-27",
          "2023-11-28",
          "2023-11-29",
          "2023-11-30",
          "2023-12-01",
          "2023-12-04",
          "2023-12-05",
          "2023-12-06",
          "2023-12-07",
          "2023-12-08",
          "2023-12-09",
          "2023-12-10",
          "2023-12-11",
          "2023-12-12",
          "2023-12-13"
         ],
         "y": [
          222,
          110,
          371,
          103,
          2,
          203,
          251,
          235,
          214,
          183,
          5,
          5,
          237,
          183,
          157,
          160,
          128,
          2,
          2,
          306,
          112,
          150,
          171,
          158,
          3,
          1,
          227,
          236,
          202,
          192,
          174,
          206,
          233,
          236,
          212,
          220,
          1,
          7,
          208,
          181,
          200,
          167,
          188,
          1,
          1,
          228,
          223,
          150,
          250,
          192,
          179,
          312,
          60,
          187,
          173,
          226,
          176,
          191,
          8,
          3,
          241,
          195,
          36
         ]
        }
       ],
       "layout": {
        "template": {
         "data": {
          "bar": [
           {
            "error_x": {
             "color": "#2a3f5f"
            },
            "error_y": {
             "color": "#2a3f5f"
            },
            "marker": {
             "line": {
              "color": "#E5ECF6",
              "width": 0.5
             },
             "pattern": {
              "fillmode": "overlay",
              "size": 10,
              "solidity": 0.2
             }
            },
            "type": "bar"
           }
          ],
          "barpolar": [
           {
            "marker": {
             "line": {
              "color": "#E5ECF6",
              "width": 0.5
             },
             "pattern": {
              "fillmode": "overlay",
              "size": 10,
              "solidity": 0.2
             }
            },
            "type": "barpolar"
           }
          ],
          "carpet": [
           {
            "aaxis": {
             "endlinecolor": "#2a3f5f",
             "gridcolor": "white",
             "linecolor": "white",
             "minorgridcolor": "white",
             "startlinecolor": "#2a3f5f"
            },
            "baxis": {
             "endlinecolor": "#2a3f5f",
             "gridcolor": "white",
             "linecolor": "white",
             "minorgridcolor": "white",
             "startlinecolor": "#2a3f5f"
            },
            "type": "carpet"
           }
          ],
          "choropleth": [
           {
            "colorbar": {
             "outlinewidth": 0,
             "ticks": ""
            },
            "type": "choropleth"
           }
          ],
          "contour": [
           {
            "colorbar": {
             "outlinewidth": 0,
             "ticks": ""
            },
            "colorscale": [
             [
              0,
              "#0d0887"
             ],
             [
              0.1111111111111111,
              "#46039f"
             ],
             [
              0.2222222222222222,
              "#7201a8"
             ],
             [
              0.3333333333333333,
              "#9c179e"
             ],
             [
              0.4444444444444444,
              "#bd3786"
             ],
             [
              0.5555555555555556,
              "#d8576b"
             ],
             [
              0.6666666666666666,
              "#ed7953"
             ],
             [
              0.7777777777777778,
              "#fb9f3a"
             ],
             [
              0.8888888888888888,
              "#fdca26"
             ],
             [
              1,
              "#f0f921"
             ]
            ],
            "type": "contour"
           }
          ],
          "contourcarpet": [
           {
            "colorbar": {
             "outlinewidth": 0,
             "ticks": ""
            },
            "type": "contourcarpet"
           }
          ],
          "heatmap": [
           {
            "colorbar": {
             "outlinewidth": 0,
             "ticks": ""
            },
            "colorscale": [
             [
              0,
              "#0d0887"
             ],
             [
              0.1111111111111111,
              "#46039f"
             ],
             [
              0.2222222222222222,
              "#7201a8"
             ],
             [
              0.3333333333333333,
              "#9c179e"
             ],
             [
              0.4444444444444444,
              "#bd3786"
             ],
             [
              0.5555555555555556,
              "#d8576b"
             ],
             [
              0.6666666666666666,
              "#ed7953"
             ],
             [
              0.7777777777777778,
              "#fb9f3a"
             ],
             [
              0.8888888888888888,
              "#fdca26"
             ],
             [
              1,
              "#f0f921"
             ]
            ],
            "type": "heatmap"
           }
          ],
          "heatmapgl": [
           {
            "colorbar": {
             "outlinewidth": 0,
             "ticks": ""
            },
            "colorscale": [
             [
              0,
              "#0d0887"
             ],
             [
              0.1111111111111111,
              "#46039f"
             ],
             [
              0.2222222222222222,
              "#7201a8"
             ],
             [
              0.3333333333333333,
              "#9c179e"
             ],
             [
              0.4444444444444444,
              "#bd3786"
             ],
             [
              0.5555555555555556,
              "#d8576b"
             ],
             [
              0.6666666666666666,
              "#ed7953"
             ],
             [
              0.7777777777777778,
              "#fb9f3a"
             ],
             [
              0.8888888888888888,
              "#fdca26"
             ],
             [
              1,
              "#f0f921"
             ]
            ],
            "type": "heatmapgl"
           }
          ],
          "histogram": [
           {
            "marker": {
             "pattern": {
              "fillmode": "overlay",
              "size": 10,
              "solidity": 0.2
             }
            },
            "type": "histogram"
           }
          ],
          "histogram2d": [
           {
            "colorbar": {
             "outlinewidth": 0,
             "ticks": ""
            },
            "colorscale": [
             [
              0,
              "#0d0887"
             ],
             [
              0.1111111111111111,
              "#46039f"
             ],
             [
              0.2222222222222222,
              "#7201a8"
             ],
             [
              0.3333333333333333,
              "#9c179e"
             ],
             [
              0.4444444444444444,
              "#bd3786"
             ],
             [
              0.5555555555555556,
              "#d8576b"
             ],
             [
              0.6666666666666666,
              "#ed7953"
             ],
             [
              0.7777777777777778,
              "#fb9f3a"
             ],
             [
              0.8888888888888888,
              "#fdca26"
             ],
             [
              1,
              "#f0f921"
             ]
            ],
            "type": "histogram2d"
           }
          ],
          "histogram2dcontour": [
           {
            "colorbar": {
             "outlinewidth": 0,
             "ticks": ""
            },
            "colorscale": [
             [
              0,
              "#0d0887"
             ],
             [
              0.1111111111111111,
              "#46039f"
             ],
             [
              0.2222222222222222,
              "#7201a8"
             ],
             [
              0.3333333333333333,
              "#9c179e"
             ],
             [
              0.4444444444444444,
              "#bd3786"
             ],
             [
              0.5555555555555556,
              "#d8576b"
             ],
             [
              0.6666666666666666,
              "#ed7953"
             ],
             [
              0.7777777777777778,
              "#fb9f3a"
             ],
             [
              0.8888888888888888,
              "#fdca26"
             ],
             [
              1,
              "#f0f921"
             ]
            ],
            "type": "histogram2dcontour"
           }
          ],
          "mesh3d": [
           {
            "colorbar": {
             "outlinewidth": 0,
             "ticks": ""
            },
            "type": "mesh3d"
           }
          ],
          "parcoords": [
           {
            "line": {
             "colorbar": {
              "outlinewidth": 0,
              "ticks": ""
             }
            },
            "type": "parcoords"
           }
          ],
          "pie": [
           {
            "automargin": true,
            "type": "pie"
           }
          ],
          "scatter": [
           {
            "fillpattern": {
             "fillmode": "overlay",
             "size": 10,
             "solidity": 0.2
            },
            "type": "scatter"
           }
          ],
          "scatter3d": [
           {
            "line": {
             "colorbar": {
              "outlinewidth": 0,
              "ticks": ""
             }
            },
            "marker": {
             "colorbar": {
              "outlinewidth": 0,
              "ticks": ""
             }
            },
            "type": "scatter3d"
           }
          ],
          "scattercarpet": [
           {
            "marker": {
             "colorbar": {
              "outlinewidth": 0,
              "ticks": ""
             }
            },
            "type": "scattercarpet"
           }
          ],
          "scattergeo": [
           {
            "marker": {
             "colorbar": {
              "outlinewidth": 0,
              "ticks": ""
             }
            },
            "type": "scattergeo"
           }
          ],
          "scattergl": [
           {
            "marker": {
             "colorbar": {
              "outlinewidth": 0,
              "ticks": ""
             }
            },
            "type": "scattergl"
           }
          ],
          "scattermapbox": [
           {
            "marker": {
             "colorbar": {
              "outlinewidth": 0,
              "ticks": ""
             }
            },
            "type": "scattermapbox"
           }
          ],
          "scatterpolar": [
           {
            "marker": {
             "colorbar": {
              "outlinewidth": 0,
              "ticks": ""
             }
            },
            "type": "scatterpolar"
           }
          ],
          "scatterpolargl": [
           {
            "marker": {
             "colorbar": {
              "outlinewidth": 0,
              "ticks": ""
             }
            },
            "type": "scatterpolargl"
           }
          ],
          "scatterternary": [
           {
            "marker": {
             "colorbar": {
              "outlinewidth": 0,
              "ticks": ""
             }
            },
            "type": "scatterternary"
           }
          ],
          "surface": [
           {
            "colorbar": {
             "outlinewidth": 0,
             "ticks": ""
            },
            "colorscale": [
             [
              0,
              "#0d0887"
             ],
             [
              0.1111111111111111,
              "#46039f"
             ],
             [
              0.2222222222222222,
              "#7201a8"
             ],
             [
              0.3333333333333333,
              "#9c179e"
             ],
             [
              0.4444444444444444,
              "#bd3786"
             ],
             [
              0.5555555555555556,
              "#d8576b"
             ],
             [
              0.6666666666666666,
              "#ed7953"
             ],
             [
              0.7777777777777778,
              "#fb9f3a"
             ],
             [
              0.8888888888888888,
              "#fdca26"
             ],
             [
              1,
              "#f0f921"
             ]
            ],
            "type": "surface"
           }
          ],
          "table": [
           {
            "cells": {
             "fill": {
              "color": "#EBF0F8"
             },
             "line": {
              "color": "white"
             }
            },
            "header": {
             "fill": {
              "color": "#C8D4E3"
             },
             "line": {
              "color": "white"
             }
            },
            "type": "table"
           }
          ]
         },
         "layout": {
          "annotationdefaults": {
           "arrowcolor": "#2a3f5f",
           "arrowhead": 0,
           "arrowwidth": 1
          },
          "autotypenumbers": "strict",
          "coloraxis": {
           "colorbar": {
            "outlinewidth": 0,
            "ticks": ""
           }
          },
          "colorscale": {
           "diverging": [
            [
             0,
             "#8e0152"
            ],
            [
             0.1,
             "#c51b7d"
            ],
            [
             0.2,
             "#de77ae"
            ],
            [
             0.3,
             "#f1b6da"
            ],
            [
             0.4,
             "#fde0ef"
            ],
            [
             0.5,
             "#f7f7f7"
            ],
            [
             0.6,
             "#e6f5d0"
            ],
            [
             0.7,
             "#b8e186"
            ],
            [
             0.8,
             "#7fbc41"
            ],
            [
             0.9,
             "#4d9221"
            ],
            [
             1,
             "#276419"
            ]
           ],
           "sequential": [
            [
             0,
             "#0d0887"
            ],
            [
             0.1111111111111111,
             "#46039f"
            ],
            [
             0.2222222222222222,
             "#7201a8"
            ],
            [
             0.3333333333333333,
             "#9c179e"
            ],
            [
             0.4444444444444444,
             "#bd3786"
            ],
            [
             0.5555555555555556,
             "#d8576b"
            ],
            [
             0.6666666666666666,
             "#ed7953"
            ],
            [
             0.7777777777777778,
             "#fb9f3a"
            ],
            [
             0.8888888888888888,
             "#fdca26"
            ],
            [
             1,
             "#f0f921"
            ]
           ],
           "sequentialminus": [
            [
             0,
             "#0d0887"
            ],
            [
             0.1111111111111111,
             "#46039f"
            ],
            [
             0.2222222222222222,
             "#7201a8"
            ],
            [
             0.3333333333333333,
             "#9c179e"
            ],
            [
             0.4444444444444444,
             "#bd3786"
            ],
            [
             0.5555555555555556,
             "#d8576b"
            ],
            [
             0.6666666666666666,
             "#ed7953"
            ],
            [
             0.7777777777777778,
             "#fb9f3a"
            ],
            [
             0.8888888888888888,
             "#fdca26"
            ],
            [
             1,
             "#f0f921"
            ]
           ]
          },
          "colorway": [
           "#636efa",
           "#EF553B",
           "#00cc96",
           "#ab63fa",
           "#FFA15A",
           "#19d3f3",
           "#FF6692",
           "#B6E880",
           "#FF97FF",
           "#FECB52"
          ],
          "font": {
           "color": "#2a3f5f"
          },
          "geo": {
           "bgcolor": "white",
           "lakecolor": "white",
           "landcolor": "#E5ECF6",
           "showlakes": true,
           "showland": true,
           "subunitcolor": "white"
          },
          "hoverlabel": {
           "align": "left"
          },
          "hovermode": "closest",
          "mapbox": {
           "style": "light"
          },
          "paper_bgcolor": "white",
          "plot_bgcolor": "#E5ECF6",
          "polar": {
           "angularaxis": {
            "gridcolor": "white",
            "linecolor": "white",
            "ticks": ""
           },
           "bgcolor": "#E5ECF6",
           "radialaxis": {
            "gridcolor": "white",
            "linecolor": "white",
            "ticks": ""
           }
          },
          "scene": {
           "xaxis": {
            "backgroundcolor": "#E5ECF6",
            "gridcolor": "white",
            "gridwidth": 2,
            "linecolor": "white",
            "showbackground": true,
            "ticks": "",
            "zerolinecolor": "white"
           },
           "yaxis": {
            "backgroundcolor": "#E5ECF6",
            "gridcolor": "white",
            "gridwidth": 2,
            "linecolor": "white",
            "showbackground": true,
            "ticks": "",
            "zerolinecolor": "white"
           },
           "zaxis": {
            "backgroundcolor": "#E5ECF6",
            "gridcolor": "white",
            "gridwidth": 2,
            "linecolor": "white",
            "showbackground": true,
            "ticks": "",
            "zerolinecolor": "white"
           }
          },
          "shapedefaults": {
           "line": {
            "color": "#2a3f5f"
           }
          },
          "ternary": {
           "aaxis": {
            "gridcolor": "white",
            "linecolor": "white",
            "ticks": ""
           },
           "baxis": {
            "gridcolor": "white",
            "linecolor": "white",
            "ticks": ""
           },
           "bgcolor": "#E5ECF6",
           "caxis": {
            "gridcolor": "white",
            "linecolor": "white",
            "ticks": ""
           }
          },
          "title": {
           "x": 0.05
          },
          "xaxis": {
           "automargin": true,
           "gridcolor": "white",
           "linecolor": "white",
           "ticks": "",
           "title": {
            "standoff": 15
           },
           "zerolinecolor": "white",
           "zerolinewidth": 2
          },
          "yaxis": {
           "automargin": true,
           "gridcolor": "white",
           "linecolor": "white",
           "ticks": "",
           "title": {
            "standoff": 15
           },
           "zerolinecolor": "white",
           "zerolinewidth": 2
          }
         }
        },
        "title": {
         "text": "Line Graph of Rows Count by Deleted Date"
        },
        "xaxis": {
         "title": {
          "text": "Deleted Date"
         }
        },
        "yaxis": {
         "title": {
          "text": "Count"
         }
        }
       }
      },
      "text/html": [
       "<div>                            <div id=\"1352edcd-cad8-4378-80c3-b53ed5383523\" class=\"plotly-graph-div\" style=\"height:525px; width:100%;\"></div>            <script type=\"text/javascript\">                require([\"plotly\"], function(Plotly) {                    window.PLOTLYENV=window.PLOTLYENV || {};                                    if (document.getElementById(\"1352edcd-cad8-4378-80c3-b53ed5383523\")) {                    Plotly.newPlot(                        \"1352edcd-cad8-4378-80c3-b53ed5383523\",                        [{\"mode\":\"lines\",\"name\":\"Count\",\"x\":[\"2023-10-03\",\"2023-10-04\",\"2023-10-05\",\"2023-10-06\",\"2023-10-07\",\"2023-10-09\",\"2023-10-10\",\"2023-10-11\",\"2023-10-12\",\"2023-10-13\",\"2023-10-14\",\"2023-10-15\",\"2023-10-16\",\"2023-10-17\",\"2023-10-18\",\"2023-10-19\",\"2023-10-20\",\"2023-10-21\",\"2023-10-22\",\"2023-10-23\",\"2023-10-24\",\"2023-10-25\",\"2023-10-26\",\"2023-10-27\",\"2023-10-28\",\"2023-10-29\",\"2023-10-30\",\"2023-10-31\",\"2023-11-01\",\"2023-11-02\",\"2023-11-03\",\"2023-11-06\",\"2023-11-07\",\"2023-11-08\",\"2023-11-09\",\"2023-11-10\",\"2023-11-11\",\"2023-11-12\",\"2023-11-13\",\"2023-11-14\",\"2023-11-15\",\"2023-11-16\",\"2023-11-17\",\"2023-11-18\",\"2023-11-19\",\"2023-11-20\",\"2023-11-21\",\"2023-11-22\",\"2023-11-27\",\"2023-11-28\",\"2023-11-29\",\"2023-11-30\",\"2023-12-01\",\"2023-12-04\",\"2023-12-05\",\"2023-12-06\",\"2023-12-07\",\"2023-12-08\",\"2023-12-09\",\"2023-12-10\",\"2023-12-11\",\"2023-12-12\",\"2023-12-13\"],\"y\":[222,110,371,103,2,203,251,235,214,183,5,5,237,183,157,160,128,2,2,306,112,150,171,158,3,1,227,236,202,192,174,206,233,236,212,220,1,7,208,181,200,167,188,1,1,228,223,150,250,192,179,312,60,187,173,226,176,191,8,3,241,195,36],\"type\":\"scatter\"}],                        {\"template\":{\"data\":{\"histogram2dcontour\":[{\"type\":\"histogram2dcontour\",\"colorbar\":{\"outlinewidth\":0,\"ticks\":\"\"},\"colorscale\":[[0.0,\"#0d0887\"],[0.1111111111111111,\"#46039f\"],[0.2222222222222222,\"#7201a8\"],[0.3333333333333333,\"#9c179e\"],[0.4444444444444444,\"#bd3786\"],[0.5555555555555556,\"#d8576b\"],[0.6666666666666666,\"#ed7953\"],[0.7777777777777778,\"#fb9f3a\"],[0.8888888888888888,\"#fdca26\"],[1.0,\"#f0f921\"]]}],\"choropleth\":[{\"type\":\"choropleth\",\"colorbar\":{\"outlinewidth\":0,\"ticks\":\"\"}}],\"histogram2d\":[{\"type\":\"histogram2d\",\"colorbar\":{\"outlinewidth\":0,\"ticks\":\"\"},\"colorscale\":[[0.0,\"#0d0887\"],[0.1111111111111111,\"#46039f\"],[0.2222222222222222,\"#7201a8\"],[0.3333333333333333,\"#9c179e\"],[0.4444444444444444,\"#bd3786\"],[0.5555555555555556,\"#d8576b\"],[0.6666666666666666,\"#ed7953\"],[0.7777777777777778,\"#fb9f3a\"],[0.8888888888888888,\"#fdca26\"],[1.0,\"#f0f921\"]]}],\"heatmap\":[{\"type\":\"heatmap\",\"colorbar\":{\"outlinewidth\":0,\"ticks\":\"\"},\"colorscale\":[[0.0,\"#0d0887\"],[0.1111111111111111,\"#46039f\"],[0.2222222222222222,\"#7201a8\"],[0.3333333333333333,\"#9c179e\"],[0.4444444444444444,\"#bd3786\"],[0.5555555555555556,\"#d8576b\"],[0.6666666666666666,\"#ed7953\"],[0.7777777777777778,\"#fb9f3a\"],[0.8888888888888888,\"#fdca26\"],[1.0,\"#f0f921\"]]}],\"heatmapgl\":[{\"type\":\"heatmapgl\",\"colorbar\":{\"outlinewidth\":0,\"ticks\":\"\"},\"colorscale\":[[0.0,\"#0d0887\"],[0.1111111111111111,\"#46039f\"],[0.2222222222222222,\"#7201a8\"],[0.3333333333333333,\"#9c179e\"],[0.4444444444444444,\"#bd3786\"],[0.5555555555555556,\"#d8576b\"],[0.6666666666666666,\"#ed7953\"],[0.7777777777777778,\"#fb9f3a\"],[0.8888888888888888,\"#fdca26\"],[1.0,\"#f0f921\"]]}],\"contourcarpet\":[{\"type\":\"contourcarpet\",\"colorbar\":{\"outlinewidth\":0,\"ticks\":\"\"}}],\"contour\":[{\"type\":\"contour\",\"colorbar\":{\"outlinewidth\":0,\"ticks\":\"\"},\"colorscale\":[[0.0,\"#0d0887\"],[0.1111111111111111,\"#46039f\"],[0.2222222222222222,\"#7201a8\"],[0.3333333333333333,\"#9c179e\"],[0.4444444444444444,\"#bd3786\"],[0.5555555555555556,\"#d8576b\"],[0.6666666666666666,\"#ed7953\"],[0.7777777777777778,\"#fb9f3a\"],[0.8888888888888888,\"#fdca26\"],[1.0,\"#f0f921\"]]}],\"surface\":[{\"type\":\"surface\",\"colorbar\":{\"outlinewidth\":0,\"ticks\":\"\"},\"colorscale\":[[0.0,\"#0d0887\"],[0.1111111111111111,\"#46039f\"],[0.2222222222222222,\"#7201a8\"],[0.3333333333333333,\"#9c179e\"],[0.4444444444444444,\"#bd3786\"],[0.5555555555555556,\"#d8576b\"],[0.6666666666666666,\"#ed7953\"],[0.7777777777777778,\"#fb9f3a\"],[0.8888888888888888,\"#fdca26\"],[1.0,\"#f0f921\"]]}],\"mesh3d\":[{\"type\":\"mesh3d\",\"colorbar\":{\"outlinewidth\":0,\"ticks\":\"\"}}],\"scatter\":[{\"fillpattern\":{\"fillmode\":\"overlay\",\"size\":10,\"solidity\":0.2},\"type\":\"scatter\"}],\"parcoords\":[{\"type\":\"parcoords\",\"line\":{\"colorbar\":{\"outlinewidth\":0,\"ticks\":\"\"}}}],\"scatterpolargl\":[{\"type\":\"scatterpolargl\",\"marker\":{\"colorbar\":{\"outlinewidth\":0,\"ticks\":\"\"}}}],\"bar\":[{\"error_x\":{\"color\":\"#2a3f5f\"},\"error_y\":{\"color\":\"#2a3f5f\"},\"marker\":{\"line\":{\"color\":\"#E5ECF6\",\"width\":0.5},\"pattern\":{\"fillmode\":\"overlay\",\"size\":10,\"solidity\":0.2}},\"type\":\"bar\"}],\"scattergeo\":[{\"type\":\"scattergeo\",\"marker\":{\"colorbar\":{\"outlinewidth\":0,\"ticks\":\"\"}}}],\"scatterpolar\":[{\"type\":\"scatterpolar\",\"marker\":{\"colorbar\":{\"outlinewidth\":0,\"ticks\":\"\"}}}],\"histogram\":[{\"marker\":{\"pattern\":{\"fillmode\":\"overlay\",\"size\":10,\"solidity\":0.2}},\"type\":\"histogram\"}],\"scattergl\":[{\"type\":\"scattergl\",\"marker\":{\"colorbar\":{\"outlinewidth\":0,\"ticks\":\"\"}}}],\"scatter3d\":[{\"type\":\"scatter3d\",\"line\":{\"colorbar\":{\"outlinewidth\":0,\"ticks\":\"\"}},\"marker\":{\"colorbar\":{\"outlinewidth\":0,\"ticks\":\"\"}}}],\"scattermapbox\":[{\"type\":\"scattermapbox\",\"marker\":{\"colorbar\":{\"outlinewidth\":0,\"ticks\":\"\"}}}],\"scatterternary\":[{\"type\":\"scatterternary\",\"marker\":{\"colorbar\":{\"outlinewidth\":0,\"ticks\":\"\"}}}],\"scattercarpet\":[{\"type\":\"scattercarpet\",\"marker\":{\"colorbar\":{\"outlinewidth\":0,\"ticks\":\"\"}}}],\"carpet\":[{\"aaxis\":{\"endlinecolor\":\"#2a3f5f\",\"gridcolor\":\"white\",\"linecolor\":\"white\",\"minorgridcolor\":\"white\",\"startlinecolor\":\"#2a3f5f\"},\"baxis\":{\"endlinecolor\":\"#2a3f5f\",\"gridcolor\":\"white\",\"linecolor\":\"white\",\"minorgridcolor\":\"white\",\"startlinecolor\":\"#2a3f5f\"},\"type\":\"carpet\"}],\"table\":[{\"cells\":{\"fill\":{\"color\":\"#EBF0F8\"},\"line\":{\"color\":\"white\"}},\"header\":{\"fill\":{\"color\":\"#C8D4E3\"},\"line\":{\"color\":\"white\"}},\"type\":\"table\"}],\"barpolar\":[{\"marker\":{\"line\":{\"color\":\"#E5ECF6\",\"width\":0.5},\"pattern\":{\"fillmode\":\"overlay\",\"size\":10,\"solidity\":0.2}},\"type\":\"barpolar\"}],\"pie\":[{\"automargin\":true,\"type\":\"pie\"}]},\"layout\":{\"autotypenumbers\":\"strict\",\"colorway\":[\"#636efa\",\"#EF553B\",\"#00cc96\",\"#ab63fa\",\"#FFA15A\",\"#19d3f3\",\"#FF6692\",\"#B6E880\",\"#FF97FF\",\"#FECB52\"],\"font\":{\"color\":\"#2a3f5f\"},\"hovermode\":\"closest\",\"hoverlabel\":{\"align\":\"left\"},\"paper_bgcolor\":\"white\",\"plot_bgcolor\":\"#E5ECF6\",\"polar\":{\"bgcolor\":\"#E5ECF6\",\"angularaxis\":{\"gridcolor\":\"white\",\"linecolor\":\"white\",\"ticks\":\"\"},\"radialaxis\":{\"gridcolor\":\"white\",\"linecolor\":\"white\",\"ticks\":\"\"}},\"ternary\":{\"bgcolor\":\"#E5ECF6\",\"aaxis\":{\"gridcolor\":\"white\",\"linecolor\":\"white\",\"ticks\":\"\"},\"baxis\":{\"gridcolor\":\"white\",\"linecolor\":\"white\",\"ticks\":\"\"},\"caxis\":{\"gridcolor\":\"white\",\"linecolor\":\"white\",\"ticks\":\"\"}},\"coloraxis\":{\"colorbar\":{\"outlinewidth\":0,\"ticks\":\"\"}},\"colorscale\":{\"sequential\":[[0.0,\"#0d0887\"],[0.1111111111111111,\"#46039f\"],[0.2222222222222222,\"#7201a8\"],[0.3333333333333333,\"#9c179e\"],[0.4444444444444444,\"#bd3786\"],[0.5555555555555556,\"#d8576b\"],[0.6666666666666666,\"#ed7953\"],[0.7777777777777778,\"#fb9f3a\"],[0.8888888888888888,\"#fdca26\"],[1.0,\"#f0f921\"]],\"sequentialminus\":[[0.0,\"#0d0887\"],[0.1111111111111111,\"#46039f\"],[0.2222222222222222,\"#7201a8\"],[0.3333333333333333,\"#9c179e\"],[0.4444444444444444,\"#bd3786\"],[0.5555555555555556,\"#d8576b\"],[0.6666666666666666,\"#ed7953\"],[0.7777777777777778,\"#fb9f3a\"],[0.8888888888888888,\"#fdca26\"],[1.0,\"#f0f921\"]],\"diverging\":[[0,\"#8e0152\"],[0.1,\"#c51b7d\"],[0.2,\"#de77ae\"],[0.3,\"#f1b6da\"],[0.4,\"#fde0ef\"],[0.5,\"#f7f7f7\"],[0.6,\"#e6f5d0\"],[0.7,\"#b8e186\"],[0.8,\"#7fbc41\"],[0.9,\"#4d9221\"],[1,\"#276419\"]]},\"xaxis\":{\"gridcolor\":\"white\",\"linecolor\":\"white\",\"ticks\":\"\",\"title\":{\"standoff\":15},\"zerolinecolor\":\"white\",\"automargin\":true,\"zerolinewidth\":2},\"yaxis\":{\"gridcolor\":\"white\",\"linecolor\":\"white\",\"ticks\":\"\",\"title\":{\"standoff\":15},\"zerolinecolor\":\"white\",\"automargin\":true,\"zerolinewidth\":2},\"scene\":{\"xaxis\":{\"backgroundcolor\":\"#E5ECF6\",\"gridcolor\":\"white\",\"linecolor\":\"white\",\"showbackground\":true,\"ticks\":\"\",\"zerolinecolor\":\"white\",\"gridwidth\":2},\"yaxis\":{\"backgroundcolor\":\"#E5ECF6\",\"gridcolor\":\"white\",\"linecolor\":\"white\",\"showbackground\":true,\"ticks\":\"\",\"zerolinecolor\":\"white\",\"gridwidth\":2},\"zaxis\":{\"backgroundcolor\":\"#E5ECF6\",\"gridcolor\":\"white\",\"linecolor\":\"white\",\"showbackground\":true,\"ticks\":\"\",\"zerolinecolor\":\"white\",\"gridwidth\":2}},\"shapedefaults\":{\"line\":{\"color\":\"#2a3f5f\"}},\"annotationdefaults\":{\"arrowcolor\":\"#2a3f5f\",\"arrowhead\":0,\"arrowwidth\":1},\"geo\":{\"bgcolor\":\"white\",\"landcolor\":\"#E5ECF6\",\"subunitcolor\":\"white\",\"showland\":true,\"showlakes\":true,\"lakecolor\":\"white\"},\"title\":{\"x\":0.05},\"mapbox\":{\"style\":\"light\"}}},\"title\":{\"text\":\"Line Graph of Rows Count by Deleted Date\"},\"xaxis\":{\"title\":{\"text\":\"Deleted Date\"}},\"yaxis\":{\"title\":{\"text\":\"Count\"}}},                        {\"responsive\": true}                    ).then(function(){\n",
       "                            \n",
       "var gd = document.getElementById('1352edcd-cad8-4378-80c3-b53ed5383523');\n",
       "var x = new MutationObserver(function (mutations, observer) {{\n",
       "        var display = window.getComputedStyle(gd).display;\n",
       "        if (!display || display === 'none') {{\n",
       "            console.log([gd, 'removed!']);\n",
       "            Plotly.purge(gd);\n",
       "            observer.disconnect();\n",
       "        }}\n",
       "}});\n",
       "\n",
       "// Listen for the removal of the full notebook cells\n",
       "var notebookContainer = gd.closest('#notebook-container');\n",
       "if (notebookContainer) {{\n",
       "    x.observe(notebookContainer, {childList: true});\n",
       "}}\n",
       "\n",
       "// Listen for the clearing of the current output cell\n",
       "var outputEl = gd.closest('.output');\n",
       "if (outputEl) {{\n",
       "    x.observe(outputEl, {childList: true});\n",
       "}}\n",
       "\n",
       "                        })                };                });            </script>        </div>"
      ]
     },
     "metadata": {},
     "output_type": "display_data"
    }
   ],
   "source": [
    "df['deleted_date'] = df['deleted_time'].dt.date\n",
    "\n",
    "count_by_date = df.groupby('deleted_date').size().reset_index(name='count')\n",
    "\n",
    "fig = go.Figure()\n",
    "\n",
    "fig.add_trace(go.Scatter(x=count_by_date['deleted_date'], y=count_by_date['count'], mode='lines', name='Count'))\n",
    "\n",
    "fig.update_layout(\n",
    "    title='Line Graph of Rows Count by Deleted Date',\n",
    "    xaxis=dict(title='Deleted Date'),\n",
    "    yaxis=dict(title='Count'))\n",
    "\n",
    "# Show the plot\n",
    "fig.show()"
   ]
  },
  {
   "attachments": {
    "deleted_date_line_chart.png": {
     "image/png": "[encoded data removed]"
    }
   },
   "cell_type": "markdown",
   "id": "a46f64fd",
   "metadata": {},
   "source": [
    "![deleted_date_line_chart.png](attachment:deleted_date_line_chart.png)"
   ]
  },
  {
   "cell_type": "markdown",
   "id": "b049f9bc",
   "metadata": {},
   "source": [
    "### Observations:\n",
    "1. **From above line graphs we cannot see seasonality or trend.**\n",
    "2. **Understanding the seasonality and trends in load activities is key for strategic decision-making. This insight enables us to align resources effectively, optimize routes during peak periods, and adapt our services to meet varying demand levels.**"
   ]
  },
  {
   "cell_type": "markdown",
   "id": "4659439e",
   "metadata": {},
   "source": [
    "### 2.3.3.  Analyzing location columns"
   ]
  },
  {
   "cell_type": "markdown",
   "id": "9b106416",
   "metadata": {},
   "source": [
    "### Top 10 most frequent Origin and Destination cities."
   ]
  },
  {
   "cell_type": "code",
   "execution_count": 34,
   "id": "ce323cac",
   "metadata": {},
   "outputs": [
    {
     "data": {
      "image/png": "[encoded data removed]",
      "text/plain": [
       "<Figure size 1296x432 with 1 Axes>"
      ]
     },
     "metadata": {
      "needs_background": "light"
     },
     "output_type": "display_data"
    },
    {
     "data": {
      "image/png": "[encoded data removed]",
      "text/plain": [
       "<Figure size 1296x432 with 1 Axes>"
      ]
     },
     "metadata": {
      "needs_background": "light"
     },
     "output_type": "display_data"
    }
   ],
   "source": [
    "columns=['origin_city', 'destination_city']\n",
    "\n",
    "for col in columns:\n",
    "    city_count=df[col].value_counts()[:10].reset_index()\n",
    "    plt.figure(figsize=(18,6))\n",
    "    sns.barplot(x=col, y='count', data=city_count)\n",
    "    plt.title(f\"Top 10 Most Frequently occuring {col}\", fontsize=20, color='red');"
   ]
  },
  {
   "cell_type": "markdown",
   "id": "b88d7cca",
   "metadata": {},
   "source": [
    "### Least 10 Frequently occuring origin and destination cities"
   ]
  },
  {
   "cell_type": "code",
   "execution_count": 38,
   "id": "e41c5ee7",
   "metadata": {},
   "outputs": [
    {
     "data": {
      "image/png": "[encoded data removed]",
      "text/plain": [
       "<Figure size 1296x432 with 1 Axes>"
      ]
     },
     "metadata": {
      "needs_background": "light"
     },
     "output_type": "display_data"
    },
    {
     "data": {
      "image/png": "[encoded data removed]",
      "text/plain": [
       "<Figure size 1296x432 with 1 Axes>"
      ]
     },
     "metadata": {
      "needs_background": "light"
     },
     "output_type": "display_data"
    }
   ],
   "source": [
    "columns=['origin_city', 'destination_city']\n",
    "\n",
    "for col in columns:\n",
    "    city_count=df[col].value_counts().sort_values()[:10].reset_index()\n",
    "    plt.figure(figsize=(18,6))\n",
    "    sns.barplot(x=col, y='count', data=city_count)\n",
    "    plt.title(f\"Least 10 Frequently occuring {col}\", fontsize=20, color='red');"
   ]
  },
  {
   "cell_type": "markdown",
   "id": "c1a348ee",
   "metadata": {},
   "source": [
    "### Observations:\n",
    "1.  **\"Baltimore\" stands out prominently as the most common origin city in our dataset. This suggests a significant volume of loads originating from Baltimore, indicating a strong business presence or demand in this location.**\n",
    "2. **The leading destination city in our records is \"Houston.\" This frequent destination implies a substantial volume of loads heading to Houston, highlighting the significance of this city in our transportation network.**\n",
    "3. **On the other end, \"Keysville\" emerges as the least occurring origin city in our dataset. While less common, insights into the dynamics of loads from Keysville can still provide valuable information for targeted strategies.**\n",
    "4. **Similarly, \"Lutz\" holds the distinction of being the least occurring destination city. Understanding the patterns related to Lutz can offer insights for optimizing routes and identifying potential growth areas.**"
   ]
  },
  {
   "cell_type": "markdown",
   "id": "10cb14d1",
   "metadata": {},
   "source": [
    "### Frequently occuring Origin  and destination State"
   ]
  },
  {
   "cell_type": "code",
   "execution_count": 39,
   "id": "9439ea56",
   "metadata": {},
   "outputs": [
    {
     "data": {
      "image/png": "[encoded data removed]",
      "text/plain": [
       "<Figure size 1296x432 with 1 Axes>"
      ]
     },
     "metadata": {
      "needs_background": "light"
     },
     "output_type": "display_data"
    },
    {
     "data": {
      "image/png": "[encoded data removed]",
      "text/plain": [
       "<Figure size 1296x432 with 1 Axes>"
      ]
     },
     "metadata": {
      "needs_background": "light"
     },
     "output_type": "display_data"
    }
   ],
   "source": [
    "columns=['origin_state', 'destination_state']\n",
    "\n",
    "for col in columns:\n",
    "    plt.figure(figsize=(18,6))\n",
    "    sns.countplot(x=col, data=df)\n",
    "    plt.title(f\"Frequently occuring {col}\", fontsize=20, color='red');"
   ]
  },
  {
   "cell_type": "markdown",
   "id": "745379eb",
   "metadata": {},
   "source": [
    "### Observation:\n",
    "1. **\"Florida\" stands out as the most prevalent origin state in our dataset. The majority of our load records originate from this state, indicating a significant presence and possibly strong business ties in that region.**\n",
    "\n",
    "2. **When it comes to destinations, \"Texas\" emerges as the top choice. Our loads are frequently headed to Texas, reflecting a notable demand or business activity in this state. This insight is valuable for strategic planning and understanding key market dynamics.**"
   ]
  },
  {
   "cell_type": "markdown",
   "id": "b60bc54d",
   "metadata": {},
   "source": [
    "### 2.3.4. Types of Trucks"
   ]
  },
  {
   "cell_type": "code",
   "execution_count": 40,
   "id": "f108b101",
   "metadata": {},
   "outputs": [
    {
     "data": {
      "text/plain": [
       "truck_type\n",
       "F     6434\n",
       "V      155\n",
       "MX      16\n",
       "Name: count, dtype: int64"
      ]
     },
     "execution_count": 40,
     "metadata": {},
     "output_type": "execute_result"
    }
   ],
   "source": [
    "df['truck_type'].value_counts()"
   ]
  },
  {
   "cell_type": "markdown",
   "id": "4838c9ae",
   "metadata": {},
   "source": [
    "### Observations:\n",
    "1. **The dataset is dominated by trucks classified as \"F\" or Freight, which may be the standard or default truck type.**\n",
    "2. **The presence of other types, such as \"V\" and \"MX,\" suggests diversity in the dataset, potentially representing different classes or categories of trucks.**"
   ]
  },
  {
   "cell_type": "code",
   "execution_count": null,
   "id": "a2a97427",
   "metadata": {},
   "outputs": [],
   "source": []
  },
  {
   "cell_type": "markdown",
   "id": "2f49ac9e",
   "metadata": {},
   "source": [
    "<h3 style=\"color:blue; background:lightblue;line-height:1.5\">2.4. Identify patterns or anomalies in price updates and time spans of added and deleted loads. Explain these findings in the context of the data."
   ]
  },
  {
   "cell_type": "markdown",
   "id": "eb5e1298",
   "metadata": {},
   "source": [
    "### 2.4.1. Pattern or Anamolies in price\n",
    "- I observed that `min_rate` and `max_rate` is same for every `reference_id`. Lets examine this.\n",
    "- Create column `rate_diff` using `max_rate - min_rate`. Observe whether all reference id has `rate_diff = 0`."
   ]
  },
  {
   "cell_type": "code",
   "execution_count": 48,
   "id": "050690c4",
   "metadata": {},
   "outputs": [
    {
     "data": {
      "text/plain": [
       "9796"
      ]
     },
     "execution_count": 48,
     "metadata": {},
     "output_type": "execute_result"
    }
   ],
   "source": [
    "df['rate_diff']=df['max_rate']-df['min_rate']\n",
    "df[df['rate_diff']==0].shape[0]"
   ]
  },
  {
   "cell_type": "code",
   "execution_count": 54,
   "id": "861c0477",
   "metadata": {},
   "outputs": [
    {
     "data": {
      "text/html": [
       "<div>\n",
       "<style scoped>\n",
       "    .dataframe tbody tr th:only-of-type {\n",
       "        vertical-align: middle;\n",
       "    }\n",
       "\n",
       "    .dataframe tbody tr th {\n",
       "        vertical-align: top;\n",
       "    }\n",
       "\n",
       "    .dataframe thead th {\n",
       "        text-align: right;\n",
       "    }\n",
       "</style>\n",
       "<table border=\"1\" class=\"dataframe\">\n",
       "  <thead>\n",
       "    <tr style=\"text-align: right;\">\n",
       "      <th></th>\n",
       "      <th>count</th>\n",
       "      <th>mean</th>\n",
       "      <th>std</th>\n",
       "      <th>min</th>\n",
       "      <th>25%</th>\n",
       "      <th>50%</th>\n",
       "      <th>75%</th>\n",
       "      <th>max</th>\n",
       "    </tr>\n",
       "  </thead>\n",
       "  <tbody>\n",
       "    <tr>\n",
       "      <th>max_rate</th>\n",
       "      <td>9796.0</td>\n",
       "      <td>1277.413842</td>\n",
       "      <td>783.312345</td>\n",
       "      <td>12.0</td>\n",
       "      <td>700.0</td>\n",
       "      <td>1050.0</td>\n",
       "      <td>1600.0</td>\n",
       "      <td>10000.0</td>\n",
       "    </tr>\n",
       "    <tr>\n",
       "      <th>min_rate</th>\n",
       "      <td>9796.0</td>\n",
       "      <td>1277.413842</td>\n",
       "      <td>783.312345</td>\n",
       "      <td>12.0</td>\n",
       "      <td>700.0</td>\n",
       "      <td>1050.0</td>\n",
       "      <td>1600.0</td>\n",
       "      <td>10000.0</td>\n",
       "    </tr>\n",
       "  </tbody>\n",
       "</table>\n",
       "</div>"
      ],
      "text/plain": [
       "           count         mean         std   min    25%     50%     75%  \\\n",
       "max_rate  9796.0  1277.413842  783.312345  12.0  700.0  1050.0  1600.0   \n",
       "min_rate  9796.0  1277.413842  783.312345  12.0  700.0  1050.0  1600.0   \n",
       "\n",
       "              max  \n",
       "max_rate  10000.0  \n",
       "min_rate  10000.0  "
      ]
     },
     "execution_count": 54,
     "metadata": {},
     "output_type": "execute_result"
    }
   ],
   "source": [
    "df[['max_rate','min_rate']].describe().T"
   ]
  },
  {
   "cell_type": "markdown",
   "id": "71e021ea",
   "metadata": {},
   "source": [
    "### Observation:\n",
    "1. **Across our load records, there is consistency observed in the pricing structure. Both the maximum and minimum rates (max_rate and min_rate) exhibit the same values for every reference ID.**\n",
    "2. **The uniformity in pricing indicates a standard or fixed rate applied consistently across all loads. This straightforward pricing model simplifies our financial considerations and ensures transparency in our transactions.**\n",
    "3.  **The right or positively skewed distribution in both columns suggests that the majority of loads have lower rates, but there are occasional instances with higher rates. Understanding this distribution can guide pricing strategies, allowing for flexibility in accommodating various load types while maintaining competitiveness.**\n",
    "4. **The presence of extreme outlier values, as identified in the Box-Plot, highlights potential anomalies in pricing.**"
   ]
  },
  {
   "cell_type": "markdown",
   "id": "cb59d3e9",
   "metadata": {},
   "source": [
    "### 2.4.2. Pattern or Anamolies in time span"
   ]
  },
  {
   "cell_type": "code",
   "execution_count": 51,
   "id": "203aab01",
   "metadata": {},
   "outputs": [
    {
     "data": {
      "text/plain": [
       "count                         9796\n",
       "mean     0 days 21:18:35.247754185\n",
       "std      1 days 14:28:43.503061684\n",
       "min                0 days 00:00:30\n",
       "25%                0 days 00:35:13\n",
       "50%                0 days 03:04:24\n",
       "75%         0 days 22:30:29.250000\n",
       "max               28 days 02:34:09\n",
       "Name: time_span, dtype: object"
      ]
     },
     "execution_count": 51,
     "metadata": {},
     "output_type": "execute_result"
    }
   ],
   "source": [
    "df['time_span'] = pd.to_timedelta(df['time_span'])\n",
    "df['time_span'].describe()"
   ]
  },
  {
   "cell_type": "markdown",
   "id": "9450f011",
   "metadata": {},
   "source": [
    "### Observations:\n",
    "1. **On average, our loads have a duration of approximately 21 hours 18 minutes and 35 seconds. This baseline understanding helps in setting expectations for the typical time a load remains active in our system.**\n",
    "2. **The standard deviation of approximately 1 day and 14 hours suggests a degree of variability in load durations. This variability may be influenced by factors such as distance, destination, or specific load characteristics.**\n",
    "3. **A noteworthy finding is that the 25th percentile indicates that 25% of our loads have a duration of less than 35 minutes. These quick turnarounds might represent efficient and swift transactions, potentially contributing to operational agility.**\n",
    "4. **The maximum load duration observed is approximately 28 days and 2 hours. While such instances may be outliers, understanding the occasional longer durations is crucial for managing resources.**"
   ]
  },
  {
   "cell_type": "markdown",
   "id": "656a77b7",
   "metadata": {},
   "source": [
    "**+--------+** **+--------+** **+--------+** **+--------+** **+--------+** **+--------+** **+--------+** **+--------+** **+--------+** **+--------+** **+--------+** **+--------+** **+--------+** **+--------+** **+--------+** "
   ]
  },
  {
   "cell_type": "code",
   "execution_count": null,
   "id": "7e401780",
   "metadata": {},
   "outputs": [],
   "source": []
  }
 ],
 "metadata": {
  "kernelspec": {
   "display_name": "Python 3 (ipykernel)",
   "language": "python",
   "name": "python3"
  },
  "language_info": {
   "codemirror_mode": {
    "name": "ipython",
    "version": 3
   },
   "file_extension": ".py",
   "mimetype": "text/x-python",
   "name": "python",
   "nbconvert_exporter": "python",
   "pygments_lexer": "ipython3",
   "version": "3.9.7"
  }
 },
 "nbformat": 4,
 "nbformat_minor": 5
}
